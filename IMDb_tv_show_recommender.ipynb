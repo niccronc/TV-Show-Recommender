{
  "nbformat": 4,
  "nbformat_minor": 0,
  "metadata": {
    "colab": {
      "name": "IMDb tv show recommender.ipynb",
      "provenance": [],
      "authorship_tag": "ABX9TyN9q49u6X0ju+/z9Kr/ga8g",
      "include_colab_link": true
    },
    "kernelspec": {
      "name": "python3",
      "display_name": "Python 3"
    },
    "widgets": {
      "application/vnd.jupyter.widget-state+json": {
        "d916e2fd42934a7c9848dc75d05ba81c": {
          "model_module": "@jupyter-widgets/controls",
          "model_name": "HBoxModel",
          "state": {
            "_view_name": "HBoxView",
            "_dom_classes": [],
            "_model_name": "HBoxModel",
            "_view_module": "@jupyter-widgets/controls",
            "_model_module_version": "1.5.0",
            "_view_count": null,
            "_view_module_version": "1.5.0",
            "box_style": "",
            "layout": "IPY_MODEL_cd61e965ec194d1085e2116b97f7f93c",
            "_model_module": "@jupyter-widgets/controls",
            "children": [
              "IPY_MODEL_e484bd75e97044f0849f4f3d14b0fcc8",
              "IPY_MODEL_834cedc6046341deb6845d7992b72eae"
            ]
          }
        },
        "cd61e965ec194d1085e2116b97f7f93c": {
          "model_module": "@jupyter-widgets/base",
          "model_name": "LayoutModel",
          "state": {
            "_view_name": "LayoutView",
            "grid_template_rows": null,
            "right": null,
            "justify_content": null,
            "_view_module": "@jupyter-widgets/base",
            "overflow": null,
            "_model_module_version": "1.2.0",
            "_view_count": null,
            "flex_flow": null,
            "width": null,
            "min_width": null,
            "border": null,
            "align_items": null,
            "bottom": null,
            "_model_module": "@jupyter-widgets/base",
            "top": null,
            "grid_column": null,
            "overflow_y": null,
            "overflow_x": null,
            "grid_auto_flow": null,
            "grid_area": null,
            "grid_template_columns": null,
            "flex": null,
            "_model_name": "LayoutModel",
            "justify_items": null,
            "grid_row": null,
            "max_height": null,
            "align_content": null,
            "visibility": null,
            "align_self": null,
            "height": null,
            "min_height": null,
            "padding": null,
            "grid_auto_rows": null,
            "grid_gap": null,
            "max_width": null,
            "order": null,
            "_view_module_version": "1.2.0",
            "grid_template_areas": null,
            "object_position": null,
            "object_fit": null,
            "grid_auto_columns": null,
            "margin": null,
            "display": null,
            "left": null
          }
        },
        "e484bd75e97044f0849f4f3d14b0fcc8": {
          "model_module": "@jupyter-widgets/controls",
          "model_name": "FloatProgressModel",
          "state": {
            "_view_name": "ProgressView",
            "style": "IPY_MODEL_ca9608b219bf4d398879f326b6195bb7",
            "_dom_classes": [],
            "description": "Downloading: 100%",
            "_model_name": "FloatProgressModel",
            "bar_style": "success",
            "max": 231508,
            "_view_module": "@jupyter-widgets/controls",
            "_model_module_version": "1.5.0",
            "value": 231508,
            "_view_count": null,
            "_view_module_version": "1.5.0",
            "orientation": "horizontal",
            "min": 0,
            "description_tooltip": null,
            "_model_module": "@jupyter-widgets/controls",
            "layout": "IPY_MODEL_2b469abea91b4afba09904729c04a59b"
          }
        },
        "834cedc6046341deb6845d7992b72eae": {
          "model_module": "@jupyter-widgets/controls",
          "model_name": "HTMLModel",
          "state": {
            "_view_name": "HTMLView",
            "style": "IPY_MODEL_94e26d65999f43adbaec262bbfa00c81",
            "_dom_classes": [],
            "description": "",
            "_model_name": "HTMLModel",
            "placeholder": "​",
            "_view_module": "@jupyter-widgets/controls",
            "_model_module_version": "1.5.0",
            "value": " 232k/232k [00:00&lt;00:00, 2.16MB/s]",
            "_view_count": null,
            "_view_module_version": "1.5.0",
            "description_tooltip": null,
            "_model_module": "@jupyter-widgets/controls",
            "layout": "IPY_MODEL_b4b2efe06fb3440a998315083e6ac4a8"
          }
        },
        "ca9608b219bf4d398879f326b6195bb7": {
          "model_module": "@jupyter-widgets/controls",
          "model_name": "ProgressStyleModel",
          "state": {
            "_view_name": "StyleView",
            "_model_name": "ProgressStyleModel",
            "description_width": "initial",
            "_view_module": "@jupyter-widgets/base",
            "_model_module_version": "1.5.0",
            "_view_count": null,
            "_view_module_version": "1.2.0",
            "bar_color": null,
            "_model_module": "@jupyter-widgets/controls"
          }
        },
        "2b469abea91b4afba09904729c04a59b": {
          "model_module": "@jupyter-widgets/base",
          "model_name": "LayoutModel",
          "state": {
            "_view_name": "LayoutView",
            "grid_template_rows": null,
            "right": null,
            "justify_content": null,
            "_view_module": "@jupyter-widgets/base",
            "overflow": null,
            "_model_module_version": "1.2.0",
            "_view_count": null,
            "flex_flow": null,
            "width": null,
            "min_width": null,
            "border": null,
            "align_items": null,
            "bottom": null,
            "_model_module": "@jupyter-widgets/base",
            "top": null,
            "grid_column": null,
            "overflow_y": null,
            "overflow_x": null,
            "grid_auto_flow": null,
            "grid_area": null,
            "grid_template_columns": null,
            "flex": null,
            "_model_name": "LayoutModel",
            "justify_items": null,
            "grid_row": null,
            "max_height": null,
            "align_content": null,
            "visibility": null,
            "align_self": null,
            "height": null,
            "min_height": null,
            "padding": null,
            "grid_auto_rows": null,
            "grid_gap": null,
            "max_width": null,
            "order": null,
            "_view_module_version": "1.2.0",
            "grid_template_areas": null,
            "object_position": null,
            "object_fit": null,
            "grid_auto_columns": null,
            "margin": null,
            "display": null,
            "left": null
          }
        },
        "94e26d65999f43adbaec262bbfa00c81": {
          "model_module": "@jupyter-widgets/controls",
          "model_name": "DescriptionStyleModel",
          "state": {
            "_view_name": "StyleView",
            "_model_name": "DescriptionStyleModel",
            "description_width": "",
            "_view_module": "@jupyter-widgets/base",
            "_model_module_version": "1.5.0",
            "_view_count": null,
            "_view_module_version": "1.2.0",
            "_model_module": "@jupyter-widgets/controls"
          }
        },
        "b4b2efe06fb3440a998315083e6ac4a8": {
          "model_module": "@jupyter-widgets/base",
          "model_name": "LayoutModel",
          "state": {
            "_view_name": "LayoutView",
            "grid_template_rows": null,
            "right": null,
            "justify_content": null,
            "_view_module": "@jupyter-widgets/base",
            "overflow": null,
            "_model_module_version": "1.2.0",
            "_view_count": null,
            "flex_flow": null,
            "width": null,
            "min_width": null,
            "border": null,
            "align_items": null,
            "bottom": null,
            "_model_module": "@jupyter-widgets/base",
            "top": null,
            "grid_column": null,
            "overflow_y": null,
            "overflow_x": null,
            "grid_auto_flow": null,
            "grid_area": null,
            "grid_template_columns": null,
            "flex": null,
            "_model_name": "LayoutModel",
            "justify_items": null,
            "grid_row": null,
            "max_height": null,
            "align_content": null,
            "visibility": null,
            "align_self": null,
            "height": null,
            "min_height": null,
            "padding": null,
            "grid_auto_rows": null,
            "grid_gap": null,
            "max_width": null,
            "order": null,
            "_view_module_version": "1.2.0",
            "grid_template_areas": null,
            "object_position": null,
            "object_fit": null,
            "grid_auto_columns": null,
            "margin": null,
            "display": null,
            "left": null
          }
        },
        "fea49e7b918143598a1f448b0b97a535": {
          "model_module": "@jupyter-widgets/controls",
          "model_name": "HBoxModel",
          "state": {
            "_view_name": "HBoxView",
            "_dom_classes": [],
            "_model_name": "HBoxModel",
            "_view_module": "@jupyter-widgets/controls",
            "_model_module_version": "1.5.0",
            "_view_count": null,
            "_view_module_version": "1.5.0",
            "box_style": "",
            "layout": "IPY_MODEL_6c7265cd3a3a49b090d9ac59bd7c497b",
            "_model_module": "@jupyter-widgets/controls",
            "children": [
              "IPY_MODEL_8103f4c3c1cf41b4ad647bb766e09278",
              "IPY_MODEL_2a06925dd3fe4a13bf4bb6d442f31320"
            ]
          }
        },
        "6c7265cd3a3a49b090d9ac59bd7c497b": {
          "model_module": "@jupyter-widgets/base",
          "model_name": "LayoutModel",
          "state": {
            "_view_name": "LayoutView",
            "grid_template_rows": null,
            "right": null,
            "justify_content": null,
            "_view_module": "@jupyter-widgets/base",
            "overflow": null,
            "_model_module_version": "1.2.0",
            "_view_count": null,
            "flex_flow": null,
            "width": null,
            "min_width": null,
            "border": null,
            "align_items": null,
            "bottom": null,
            "_model_module": "@jupyter-widgets/base",
            "top": null,
            "grid_column": null,
            "overflow_y": null,
            "overflow_x": null,
            "grid_auto_flow": null,
            "grid_area": null,
            "grid_template_columns": null,
            "flex": null,
            "_model_name": "LayoutModel",
            "justify_items": null,
            "grid_row": null,
            "max_height": null,
            "align_content": null,
            "visibility": null,
            "align_self": null,
            "height": null,
            "min_height": null,
            "padding": null,
            "grid_auto_rows": null,
            "grid_gap": null,
            "max_width": null,
            "order": null,
            "_view_module_version": "1.2.0",
            "grid_template_areas": null,
            "object_position": null,
            "object_fit": null,
            "grid_auto_columns": null,
            "margin": null,
            "display": null,
            "left": null
          }
        },
        "8103f4c3c1cf41b4ad647bb766e09278": {
          "model_module": "@jupyter-widgets/controls",
          "model_name": "FloatProgressModel",
          "state": {
            "_view_name": "ProgressView",
            "style": "IPY_MODEL_5a1ee5e6beb741d3a738811e7e5fdb61",
            "_dom_classes": [],
            "description": "Downloading: 100%",
            "_model_name": "FloatProgressModel",
            "bar_style": "success",
            "max": 433,
            "_view_module": "@jupyter-widgets/controls",
            "_model_module_version": "1.5.0",
            "value": 433,
            "_view_count": null,
            "_view_module_version": "1.5.0",
            "orientation": "horizontal",
            "min": 0,
            "description_tooltip": null,
            "_model_module": "@jupyter-widgets/controls",
            "layout": "IPY_MODEL_f31a21bd80304dd5b172cf7de2a3874d"
          }
        },
        "2a06925dd3fe4a13bf4bb6d442f31320": {
          "model_module": "@jupyter-widgets/controls",
          "model_name": "HTMLModel",
          "state": {
            "_view_name": "HTMLView",
            "style": "IPY_MODEL_1e5a016c2d7a4c94b5f23e0e3c3c5e17",
            "_dom_classes": [],
            "description": "",
            "_model_name": "HTMLModel",
            "placeholder": "​",
            "_view_module": "@jupyter-widgets/controls",
            "_model_module_version": "1.5.0",
            "value": " 433/433 [01:48&lt;00:00, 4.00B/s]",
            "_view_count": null,
            "_view_module_version": "1.5.0",
            "description_tooltip": null,
            "_model_module": "@jupyter-widgets/controls",
            "layout": "IPY_MODEL_9e887957916f44a09cc2ff4d0cdb7e04"
          }
        },
        "5a1ee5e6beb741d3a738811e7e5fdb61": {
          "model_module": "@jupyter-widgets/controls",
          "model_name": "ProgressStyleModel",
          "state": {
            "_view_name": "StyleView",
            "_model_name": "ProgressStyleModel",
            "description_width": "initial",
            "_view_module": "@jupyter-widgets/base",
            "_model_module_version": "1.5.0",
            "_view_count": null,
            "_view_module_version": "1.2.0",
            "bar_color": null,
            "_model_module": "@jupyter-widgets/controls"
          }
        },
        "f31a21bd80304dd5b172cf7de2a3874d": {
          "model_module": "@jupyter-widgets/base",
          "model_name": "LayoutModel",
          "state": {
            "_view_name": "LayoutView",
            "grid_template_rows": null,
            "right": null,
            "justify_content": null,
            "_view_module": "@jupyter-widgets/base",
            "overflow": null,
            "_model_module_version": "1.2.0",
            "_view_count": null,
            "flex_flow": null,
            "width": null,
            "min_width": null,
            "border": null,
            "align_items": null,
            "bottom": null,
            "_model_module": "@jupyter-widgets/base",
            "top": null,
            "grid_column": null,
            "overflow_y": null,
            "overflow_x": null,
            "grid_auto_flow": null,
            "grid_area": null,
            "grid_template_columns": null,
            "flex": null,
            "_model_name": "LayoutModel",
            "justify_items": null,
            "grid_row": null,
            "max_height": null,
            "align_content": null,
            "visibility": null,
            "align_self": null,
            "height": null,
            "min_height": null,
            "padding": null,
            "grid_auto_rows": null,
            "grid_gap": null,
            "max_width": null,
            "order": null,
            "_view_module_version": "1.2.0",
            "grid_template_areas": null,
            "object_position": null,
            "object_fit": null,
            "grid_auto_columns": null,
            "margin": null,
            "display": null,
            "left": null
          }
        },
        "1e5a016c2d7a4c94b5f23e0e3c3c5e17": {
          "model_module": "@jupyter-widgets/controls",
          "model_name": "DescriptionStyleModel",
          "state": {
            "_view_name": "StyleView",
            "_model_name": "DescriptionStyleModel",
            "description_width": "",
            "_view_module": "@jupyter-widgets/base",
            "_model_module_version": "1.5.0",
            "_view_count": null,
            "_view_module_version": "1.2.0",
            "_model_module": "@jupyter-widgets/controls"
          }
        },
        "9e887957916f44a09cc2ff4d0cdb7e04": {
          "model_module": "@jupyter-widgets/base",
          "model_name": "LayoutModel",
          "state": {
            "_view_name": "LayoutView",
            "grid_template_rows": null,
            "right": null,
            "justify_content": null,
            "_view_module": "@jupyter-widgets/base",
            "overflow": null,
            "_model_module_version": "1.2.0",
            "_view_count": null,
            "flex_flow": null,
            "width": null,
            "min_width": null,
            "border": null,
            "align_items": null,
            "bottom": null,
            "_model_module": "@jupyter-widgets/base",
            "top": null,
            "grid_column": null,
            "overflow_y": null,
            "overflow_x": null,
            "grid_auto_flow": null,
            "grid_area": null,
            "grid_template_columns": null,
            "flex": null,
            "_model_name": "LayoutModel",
            "justify_items": null,
            "grid_row": null,
            "max_height": null,
            "align_content": null,
            "visibility": null,
            "align_self": null,
            "height": null,
            "min_height": null,
            "padding": null,
            "grid_auto_rows": null,
            "grid_gap": null,
            "max_width": null,
            "order": null,
            "_view_module_version": "1.2.0",
            "grid_template_areas": null,
            "object_position": null,
            "object_fit": null,
            "grid_auto_columns": null,
            "margin": null,
            "display": null,
            "left": null
          }
        },
        "088f29d522f74d3687b7d60809154eb5": {
          "model_module": "@jupyter-widgets/controls",
          "model_name": "HBoxModel",
          "state": {
            "_view_name": "HBoxView",
            "_dom_classes": [],
            "_model_name": "HBoxModel",
            "_view_module": "@jupyter-widgets/controls",
            "_model_module_version": "1.5.0",
            "_view_count": null,
            "_view_module_version": "1.5.0",
            "box_style": "",
            "layout": "IPY_MODEL_93e3cef52ae441eaa3afd5e93da01363",
            "_model_module": "@jupyter-widgets/controls",
            "children": [
              "IPY_MODEL_ac08b5672b504d6987a21264216e2851",
              "IPY_MODEL_28047c106e7241b3ac708b2dfc2efc5f"
            ]
          }
        },
        "93e3cef52ae441eaa3afd5e93da01363": {
          "model_module": "@jupyter-widgets/base",
          "model_name": "LayoutModel",
          "state": {
            "_view_name": "LayoutView",
            "grid_template_rows": null,
            "right": null,
            "justify_content": null,
            "_view_module": "@jupyter-widgets/base",
            "overflow": null,
            "_model_module_version": "1.2.0",
            "_view_count": null,
            "flex_flow": null,
            "width": null,
            "min_width": null,
            "border": null,
            "align_items": null,
            "bottom": null,
            "_model_module": "@jupyter-widgets/base",
            "top": null,
            "grid_column": null,
            "overflow_y": null,
            "overflow_x": null,
            "grid_auto_flow": null,
            "grid_area": null,
            "grid_template_columns": null,
            "flex": null,
            "_model_name": "LayoutModel",
            "justify_items": null,
            "grid_row": null,
            "max_height": null,
            "align_content": null,
            "visibility": null,
            "align_self": null,
            "height": null,
            "min_height": null,
            "padding": null,
            "grid_auto_rows": null,
            "grid_gap": null,
            "max_width": null,
            "order": null,
            "_view_module_version": "1.2.0",
            "grid_template_areas": null,
            "object_position": null,
            "object_fit": null,
            "grid_auto_columns": null,
            "margin": null,
            "display": null,
            "left": null
          }
        },
        "ac08b5672b504d6987a21264216e2851": {
          "model_module": "@jupyter-widgets/controls",
          "model_name": "FloatProgressModel",
          "state": {
            "_view_name": "ProgressView",
            "style": "IPY_MODEL_130f9a05ab414632a5c56049f1236ebb",
            "_dom_classes": [],
            "description": "Downloading: 100%",
            "_model_name": "FloatProgressModel",
            "bar_style": "success",
            "max": 440473133,
            "_view_module": "@jupyter-widgets/controls",
            "_model_module_version": "1.5.0",
            "value": 440473133,
            "_view_count": null,
            "_view_module_version": "1.5.0",
            "orientation": "horizontal",
            "min": 0,
            "description_tooltip": null,
            "_model_module": "@jupyter-widgets/controls",
            "layout": "IPY_MODEL_a8ee05930b484c85bbc622d58009092d"
          }
        },
        "28047c106e7241b3ac708b2dfc2efc5f": {
          "model_module": "@jupyter-widgets/controls",
          "model_name": "HTMLModel",
          "state": {
            "_view_name": "HTMLView",
            "style": "IPY_MODEL_bee8a75892d64912b522b71edea76e15",
            "_dom_classes": [],
            "description": "",
            "_model_name": "HTMLModel",
            "placeholder": "​",
            "_view_module": "@jupyter-widgets/controls",
            "_model_module_version": "1.5.0",
            "value": " 440M/440M [01:47&lt;00:00, 4.08MB/s]",
            "_view_count": null,
            "_view_module_version": "1.5.0",
            "description_tooltip": null,
            "_model_module": "@jupyter-widgets/controls",
            "layout": "IPY_MODEL_f7b20e0baa6045658b1e94db06892fbb"
          }
        },
        "130f9a05ab414632a5c56049f1236ebb": {
          "model_module": "@jupyter-widgets/controls",
          "model_name": "ProgressStyleModel",
          "state": {
            "_view_name": "StyleView",
            "_model_name": "ProgressStyleModel",
            "description_width": "initial",
            "_view_module": "@jupyter-widgets/base",
            "_model_module_version": "1.5.0",
            "_view_count": null,
            "_view_module_version": "1.2.0",
            "bar_color": null,
            "_model_module": "@jupyter-widgets/controls"
          }
        },
        "a8ee05930b484c85bbc622d58009092d": {
          "model_module": "@jupyter-widgets/base",
          "model_name": "LayoutModel",
          "state": {
            "_view_name": "LayoutView",
            "grid_template_rows": null,
            "right": null,
            "justify_content": null,
            "_view_module": "@jupyter-widgets/base",
            "overflow": null,
            "_model_module_version": "1.2.0",
            "_view_count": null,
            "flex_flow": null,
            "width": null,
            "min_width": null,
            "border": null,
            "align_items": null,
            "bottom": null,
            "_model_module": "@jupyter-widgets/base",
            "top": null,
            "grid_column": null,
            "overflow_y": null,
            "overflow_x": null,
            "grid_auto_flow": null,
            "grid_area": null,
            "grid_template_columns": null,
            "flex": null,
            "_model_name": "LayoutModel",
            "justify_items": null,
            "grid_row": null,
            "max_height": null,
            "align_content": null,
            "visibility": null,
            "align_self": null,
            "height": null,
            "min_height": null,
            "padding": null,
            "grid_auto_rows": null,
            "grid_gap": null,
            "max_width": null,
            "order": null,
            "_view_module_version": "1.2.0",
            "grid_template_areas": null,
            "object_position": null,
            "object_fit": null,
            "grid_auto_columns": null,
            "margin": null,
            "display": null,
            "left": null
          }
        },
        "bee8a75892d64912b522b71edea76e15": {
          "model_module": "@jupyter-widgets/controls",
          "model_name": "DescriptionStyleModel",
          "state": {
            "_view_name": "StyleView",
            "_model_name": "DescriptionStyleModel",
            "description_width": "",
            "_view_module": "@jupyter-widgets/base",
            "_model_module_version": "1.5.0",
            "_view_count": null,
            "_view_module_version": "1.2.0",
            "_model_module": "@jupyter-widgets/controls"
          }
        },
        "f7b20e0baa6045658b1e94db06892fbb": {
          "model_module": "@jupyter-widgets/base",
          "model_name": "LayoutModel",
          "state": {
            "_view_name": "LayoutView",
            "grid_template_rows": null,
            "right": null,
            "justify_content": null,
            "_view_module": "@jupyter-widgets/base",
            "overflow": null,
            "_model_module_version": "1.2.0",
            "_view_count": null,
            "flex_flow": null,
            "width": null,
            "min_width": null,
            "border": null,
            "align_items": null,
            "bottom": null,
            "_model_module": "@jupyter-widgets/base",
            "top": null,
            "grid_column": null,
            "overflow_y": null,
            "overflow_x": null,
            "grid_auto_flow": null,
            "grid_area": null,
            "grid_template_columns": null,
            "flex": null,
            "_model_name": "LayoutModel",
            "justify_items": null,
            "grid_row": null,
            "max_height": null,
            "align_content": null,
            "visibility": null,
            "align_self": null,
            "height": null,
            "min_height": null,
            "padding": null,
            "grid_auto_rows": null,
            "grid_gap": null,
            "max_width": null,
            "order": null,
            "_view_module_version": "1.2.0",
            "grid_template_areas": null,
            "object_position": null,
            "object_fit": null,
            "grid_auto_columns": null,
            "margin": null,
            "display": null,
            "left": null
          }
        }
      }
    }
  },
  "cells": [
    {
      "cell_type": "markdown",
      "metadata": {
        "id": "view-in-github",
        "colab_type": "text"
      },
      "source": [
        "<a href=\"https://colab.research.google.com/github/niccronc/TV-Show-Recommender/blob/master/IMDb_tv_show_recommender.ipynb\" target=\"_parent\"><img src=\"https://colab.research.google.com/assets/colab-badge.svg\" alt=\"Open In Colab\"/></a>"
      ]
    },
    {
      "cell_type": "code",
      "metadata": {
        "id": "69CC2FZ_fNTq",
        "colab_type": "code",
        "colab": {
          "base_uri": "https://localhost:8080/",
          "height": 34
        },
        "outputId": "f8445993-a5d1-4f64-e055-d70d354fd5ca"
      },
      "source": [
        "from google.colab import drive\n",
        "drive.mount('/content/drive')"
      ],
      "execution_count": 83,
      "outputs": [
        {
          "output_type": "stream",
          "text": [
            "Drive already mounted at /content/drive; to attempt to forcibly remount, call drive.mount(\"/content/drive\", force_remount=True).\n"
          ],
          "name": "stdout"
        }
      ]
    },
    {
      "cell_type": "code",
      "metadata": {
        "id": "KW04c_dqf37W",
        "colab_type": "code",
        "colab": {}
      },
      "source": [
        "path='/content/drive/My Drive/Colab Notebooks/data/IMDb'"
      ],
      "execution_count": null,
      "outputs": []
    },
    {
      "cell_type": "code",
      "metadata": {
        "id": "bEjEG2mxf97C",
        "colab_type": "code",
        "colab": {}
      },
      "source": [
        "import numpy as np\n",
        "import pandas as pd"
      ],
      "execution_count": null,
      "outputs": []
    },
    {
      "cell_type": "code",
      "metadata": {
        "id": "a2ceK9JUgA2m",
        "colab_type": "code",
        "colab": {
          "base_uri": "https://localhost:8080/",
          "height": 204
        },
        "outputId": "898ed9f5-882c-4dc2-bb44-e50ecc38321c"
      },
      "source": [
        "df=pd.read_csv(path+'/storyline.csv')\n",
        "df.head()"
      ],
      "execution_count": null,
      "outputs": [
        {
          "output_type": "execute_result",
          "data": {
            "text/html": [
              "<div>\n",
              "<style scoped>\n",
              "    .dataframe tbody tr th:only-of-type {\n",
              "        vertical-align: middle;\n",
              "    }\n",
              "\n",
              "    .dataframe tbody tr th {\n",
              "        vertical-align: top;\n",
              "    }\n",
              "\n",
              "    .dataframe thead th {\n",
              "        text-align: right;\n",
              "    }\n",
              "</style>\n",
              "<table border=\"1\" class=\"dataframe\">\n",
              "  <thead>\n",
              "    <tr style=\"text-align: right;\">\n",
              "      <th></th>\n",
              "      <th>Name</th>\n",
              "      <th>Genres</th>\n",
              "      <th>Score</th>\n",
              "      <th>Votes</th>\n",
              "      <th>Storyline</th>\n",
              "    </tr>\n",
              "  </thead>\n",
              "  <tbody>\n",
              "    <tr>\n",
              "      <th>0</th>\n",
              "      <td>The Umbrella Academy</td>\n",
              "      <td>['Action', 'Adventure', 'Comedy']</td>\n",
              "      <td>8.0</td>\n",
              "      <td>114,948</td>\n",
              "      <td>On the same day in October 1989, forty-thr...</td>\n",
              "    </tr>\n",
              "    <tr>\n",
              "      <th>1</th>\n",
              "      <td>Dark</td>\n",
              "      <td>['Crime', 'Drama', 'Mystery']</td>\n",
              "      <td>8.8</td>\n",
              "      <td>237,507</td>\n",
              "      <td>The first German production from the world...</td>\n",
              "    </tr>\n",
              "    <tr>\n",
              "      <th>2</th>\n",
              "      <td>Yellowstone</td>\n",
              "      <td>['Drama', 'Western']</td>\n",
              "      <td>8.5</td>\n",
              "      <td>19,008</td>\n",
              "      <td>Yellowstone follows the Dutton family, led...</td>\n",
              "    </tr>\n",
              "    <tr>\n",
              "      <th>3</th>\n",
              "      <td>Perry Mason</td>\n",
              "      <td>['Crime', 'Drama']</td>\n",
              "      <td>7.4</td>\n",
              "      <td>5,404</td>\n",
              "      <td>Set in 1932 Los Angeles, the series focuse...</td>\n",
              "    </tr>\n",
              "    <tr>\n",
              "      <th>4</th>\n",
              "      <td>Game of Thrones</td>\n",
              "      <td>['Action', 'Adventure', 'Drama']</td>\n",
              "      <td>9.3</td>\n",
              "      <td>1,696,047</td>\n",
              "      <td>In the mythical continent of Westeros, sev...</td>\n",
              "    </tr>\n",
              "  </tbody>\n",
              "</table>\n",
              "</div>"
            ],
            "text/plain": [
              "                   Name  ...                                          Storyline\n",
              "0  The Umbrella Academy  ...      On the same day in October 1989, forty-thr...\n",
              "1                  Dark  ...      The first German production from the world...\n",
              "2           Yellowstone  ...      Yellowstone follows the Dutton family, led...\n",
              "3           Perry Mason  ...      Set in 1932 Los Angeles, the series focuse...\n",
              "4       Game of Thrones  ...      In the mythical continent of Westeros, sev...\n",
              "\n",
              "[5 rows x 5 columns]"
            ]
          },
          "metadata": {
            "tags": []
          },
          "execution_count": 18
        }
      ]
    },
    {
      "cell_type": "code",
      "metadata": {
        "id": "pc2ZohXXgiPo",
        "colab_type": "code",
        "colab": {
          "base_uri": "https://localhost:8080/",
          "height": 34
        },
        "outputId": "1f72e503-8cf7-4d4a-b39e-30639744cdd1"
      },
      "source": [
        "len(df)"
      ],
      "execution_count": null,
      "outputs": [
        {
          "output_type": "execute_result",
          "data": {
            "text/plain": [
              "9649"
            ]
          },
          "metadata": {
            "tags": []
          },
          "execution_count": 6
        }
      ]
    },
    {
      "cell_type": "code",
      "metadata": {
        "id": "-Suu4YtNgz3V",
        "colab_type": "code",
        "colab": {
          "base_uri": "https://localhost:8080/",
          "height": 615
        },
        "outputId": "b6c784c0-a114-4291-f659-16e3adddfc1a"
      },
      "source": [
        "!pip install transformers"
      ],
      "execution_count": null,
      "outputs": [
        {
          "output_type": "stream",
          "text": [
            "Collecting transformers\n",
            "\u001b[?25l  Downloading https://files.pythonhosted.org/packages/ae/05/c8c55b600308dc04e95100dc8ad8a244dd800fe75dfafcf1d6348c6f6209/transformers-3.1.0-py3-none-any.whl (884kB)\n",
            "\u001b[K     |████████████████████████████████| 890kB 2.9MB/s \n",
            "\u001b[?25hRequirement already satisfied: regex!=2019.12.17 in /usr/local/lib/python3.6/dist-packages (from transformers) (2019.12.20)\n",
            "Collecting sacremoses\n",
            "\u001b[?25l  Downloading https://files.pythonhosted.org/packages/7d/34/09d19aff26edcc8eb2a01bed8e98f13a1537005d31e95233fd48216eed10/sacremoses-0.0.43.tar.gz (883kB)\n",
            "\u001b[K     |████████████████████████████████| 890kB 15.5MB/s \n",
            "\u001b[?25hRequirement already satisfied: dataclasses; python_version < \"3.7\" in /usr/local/lib/python3.6/dist-packages (from transformers) (0.7)\n",
            "Collecting tokenizers==0.8.1.rc2\n",
            "\u001b[?25l  Downloading https://files.pythonhosted.org/packages/80/83/8b9fccb9e48eeb575ee19179e2bdde0ee9a1904f97de5f02d19016b8804f/tokenizers-0.8.1rc2-cp36-cp36m-manylinux1_x86_64.whl (3.0MB)\n",
            "\u001b[K     |████████████████████████████████| 3.0MB 17.4MB/s \n",
            "\u001b[?25hCollecting sentencepiece!=0.1.92\n",
            "\u001b[?25l  Downloading https://files.pythonhosted.org/packages/d4/a4/d0a884c4300004a78cca907a6ff9a5e9fe4f090f5d95ab341c53d28cbc58/sentencepiece-0.1.91-cp36-cp36m-manylinux1_x86_64.whl (1.1MB)\n",
            "\u001b[K     |████████████████████████████████| 1.1MB 25.5MB/s \n",
            "\u001b[?25hRequirement already satisfied: numpy in /usr/local/lib/python3.6/dist-packages (from transformers) (1.18.5)\n",
            "Requirement already satisfied: packaging in /usr/local/lib/python3.6/dist-packages (from transformers) (20.4)\n",
            "Requirement already satisfied: requests in /usr/local/lib/python3.6/dist-packages (from transformers) (2.23.0)\n",
            "Requirement already satisfied: filelock in /usr/local/lib/python3.6/dist-packages (from transformers) (3.0.12)\n",
            "Requirement already satisfied: tqdm>=4.27 in /usr/local/lib/python3.6/dist-packages (from transformers) (4.41.1)\n",
            "Requirement already satisfied: six in /usr/local/lib/python3.6/dist-packages (from sacremoses->transformers) (1.15.0)\n",
            "Requirement already satisfied: click in /usr/local/lib/python3.6/dist-packages (from sacremoses->transformers) (7.1.2)\n",
            "Requirement already satisfied: joblib in /usr/local/lib/python3.6/dist-packages (from sacremoses->transformers) (0.16.0)\n",
            "Requirement already satisfied: pyparsing>=2.0.2 in /usr/local/lib/python3.6/dist-packages (from packaging->transformers) (2.4.7)\n",
            "Requirement already satisfied: idna<3,>=2.5 in /usr/local/lib/python3.6/dist-packages (from requests->transformers) (2.10)\n",
            "Requirement already satisfied: certifi>=2017.4.17 in /usr/local/lib/python3.6/dist-packages (from requests->transformers) (2020.6.20)\n",
            "Requirement already satisfied: chardet<4,>=3.0.2 in /usr/local/lib/python3.6/dist-packages (from requests->transformers) (3.0.4)\n",
            "Requirement already satisfied: urllib3!=1.25.0,!=1.25.1,<1.26,>=1.21.1 in /usr/local/lib/python3.6/dist-packages (from requests->transformers) (1.24.3)\n",
            "Building wheels for collected packages: sacremoses\n",
            "  Building wheel for sacremoses (setup.py) ... \u001b[?25l\u001b[?25hdone\n",
            "  Created wheel for sacremoses: filename=sacremoses-0.0.43-cp36-none-any.whl size=893257 sha256=116f9c58733de625735a22ac840118606e4cef488384e29ace89b96f027914c4\n",
            "  Stored in directory: /root/.cache/pip/wheels/29/3c/fd/7ce5c3f0666dab31a50123635e6fb5e19ceb42ce38d4e58f45\n",
            "Successfully built sacremoses\n",
            "Installing collected packages: sacremoses, tokenizers, sentencepiece, transformers\n",
            "Successfully installed sacremoses-0.0.43 sentencepiece-0.1.91 tokenizers-0.8.1rc2 transformers-3.1.0\n"
          ],
          "name": "stdout"
        }
      ]
    },
    {
      "cell_type": "code",
      "metadata": {
        "id": "uDUjdOzag35x",
        "colab_type": "code",
        "colab": {
          "base_uri": "https://localhost:8080/",
          "height": 164,
          "referenced_widgets": [
            "d916e2fd42934a7c9848dc75d05ba81c",
            "cd61e965ec194d1085e2116b97f7f93c",
            "e484bd75e97044f0849f4f3d14b0fcc8",
            "834cedc6046341deb6845d7992b72eae",
            "ca9608b219bf4d398879f326b6195bb7",
            "2b469abea91b4afba09904729c04a59b",
            "94e26d65999f43adbaec262bbfa00c81",
            "b4b2efe06fb3440a998315083e6ac4a8",
            "fea49e7b918143598a1f448b0b97a535",
            "6c7265cd3a3a49b090d9ac59bd7c497b",
            "8103f4c3c1cf41b4ad647bb766e09278",
            "2a06925dd3fe4a13bf4bb6d442f31320",
            "5a1ee5e6beb741d3a738811e7e5fdb61",
            "f31a21bd80304dd5b172cf7de2a3874d",
            "1e5a016c2d7a4c94b5f23e0e3c3c5e17",
            "9e887957916f44a09cc2ff4d0cdb7e04",
            "088f29d522f74d3687b7d60809154eb5",
            "93e3cef52ae441eaa3afd5e93da01363",
            "ac08b5672b504d6987a21264216e2851",
            "28047c106e7241b3ac708b2dfc2efc5f",
            "130f9a05ab414632a5c56049f1236ebb",
            "a8ee05930b484c85bbc622d58009092d",
            "bee8a75892d64912b522b71edea76e15",
            "f7b20e0baa6045658b1e94db06892fbb"
          ]
        },
        "outputId": "a6382b0b-e85b-453c-e412-289c0a0589a9"
      },
      "source": [
        "from transformers import BertTokenizer, BertModel\n",
        "import torch\n",
        "\n",
        "tokenizer = BertTokenizer.from_pretrained('bert-base-uncased')\n",
        "model = BertModel.from_pretrained('bert-base-uncased', output_hidden_states = True)"
      ],
      "execution_count": null,
      "outputs": [
        {
          "output_type": "display_data",
          "data": {
            "application/vnd.jupyter.widget-view+json": {
              "model_id": "d916e2fd42934a7c9848dc75d05ba81c",
              "version_minor": 0,
              "version_major": 2
            },
            "text/plain": [
              "HBox(children=(FloatProgress(value=0.0, description='Downloading', max=231508.0, style=ProgressStyle(descripti…"
            ]
          },
          "metadata": {
            "tags": []
          }
        },
        {
          "output_type": "stream",
          "text": [
            "\n"
          ],
          "name": "stdout"
        },
        {
          "output_type": "display_data",
          "data": {
            "application/vnd.jupyter.widget-view+json": {
              "model_id": "fea49e7b918143598a1f448b0b97a535",
              "version_minor": 0,
              "version_major": 2
            },
            "text/plain": [
              "HBox(children=(FloatProgress(value=0.0, description='Downloading', max=433.0, style=ProgressStyle(description_…"
            ]
          },
          "metadata": {
            "tags": []
          }
        },
        {
          "output_type": "stream",
          "text": [
            "\n"
          ],
          "name": "stdout"
        },
        {
          "output_type": "display_data",
          "data": {
            "application/vnd.jupyter.widget-view+json": {
              "model_id": "088f29d522f74d3687b7d60809154eb5",
              "version_minor": 0,
              "version_major": 2
            },
            "text/plain": [
              "HBox(children=(FloatProgress(value=0.0, description='Downloading', max=440473133.0, style=ProgressStyle(descri…"
            ]
          },
          "metadata": {
            "tags": []
          }
        },
        {
          "output_type": "stream",
          "text": [
            "\n"
          ],
          "name": "stdout"
        }
      ]
    },
    {
      "cell_type": "code",
      "metadata": {
        "id": "3yMycss_hgca",
        "colab_type": "code",
        "colab": {}
      },
      "source": [
        "def get_vector(sentence):\n",
        "  inputs = tokenizer(sentence, return_tensors=\"pt\")\n",
        "  outputs = model(**inputs)\n",
        "  penultimate = outputs[2][11]\n",
        "  pooler = penultimate[:, 0, :]\n",
        "  return pooler.squeeze().detach().numpy()"
      ],
      "execution_count": null,
      "outputs": []
    },
    {
      "cell_type": "code",
      "metadata": {
        "id": "oG6W0VhPIadg",
        "colab_type": "code",
        "colab": {}
      },
      "source": [
        "def get_vector_averaged(sentence):\n",
        "  inputs = tokenizer(sentence, return_tensors=\"pt\")\n",
        "  outputs = model(**inputs)\n",
        "  penultimate = outputs[2][11]\n",
        "  average_pooler = torch.mean(penultimate,1)\n",
        "  return average_pooler.squeeze().detach().numpy()"
      ],
      "execution_count": null,
      "outputs": []
    },
    {
      "cell_type": "code",
      "metadata": {
        "id": "DCU3RMsUh3wb",
        "colab_type": "code",
        "colab": {}
      },
      "source": [
        "def add_Bert_column(row):\n",
        "  sentence = row['Storyline']\n",
        "  row['Bert vector']=get_vector(sentence)\n",
        "  return row"
      ],
      "execution_count": null,
      "outputs": []
    },
    {
      "cell_type": "code",
      "metadata": {
        "id": "b1PELF8RIg5y",
        "colab_type": "code",
        "colab": {}
      },
      "source": [
        "def add_Bert_column_averaged(row):\n",
        "  sentence = row['Storyline']\n",
        "  row['Bert vector']=get_vector_averaged(sentence)\n",
        "  return row"
      ],
      "execution_count": null,
      "outputs": []
    },
    {
      "cell_type": "code",
      "metadata": {
        "id": "U8JM8Rr_h3y2",
        "colab_type": "code",
        "colab": {
          "base_uri": "https://localhost:8080/",
          "height": 204
        },
        "outputId": "26a1ae91-a9b4-4c74-b8b1-c3bd9a13cbe0"
      },
      "source": [
        "sample_df=df.sample(n=5)\n",
        "sample_df.head()"
      ],
      "execution_count": null,
      "outputs": [
        {
          "output_type": "execute_result",
          "data": {
            "text/html": [
              "<div>\n",
              "<style scoped>\n",
              "    .dataframe tbody tr th:only-of-type {\n",
              "        vertical-align: middle;\n",
              "    }\n",
              "\n",
              "    .dataframe tbody tr th {\n",
              "        vertical-align: top;\n",
              "    }\n",
              "\n",
              "    .dataframe thead th {\n",
              "        text-align: right;\n",
              "    }\n",
              "</style>\n",
              "<table border=\"1\" class=\"dataframe\">\n",
              "  <thead>\n",
              "    <tr style=\"text-align: right;\">\n",
              "      <th></th>\n",
              "      <th>Name</th>\n",
              "      <th>Genres</th>\n",
              "      <th>Score</th>\n",
              "      <th>Votes</th>\n",
              "      <th>Storyline</th>\n",
              "    </tr>\n",
              "  </thead>\n",
              "  <tbody>\n",
              "    <tr>\n",
              "      <th>8290</th>\n",
              "      <td>Szomszédok</td>\n",
              "      <td>['Drama', 'Family', 'Romance']</td>\n",
              "      <td>6.6</td>\n",
              "      <td>767</td>\n",
              "      <td>The everyday life of four families at a ho...</td>\n",
              "    </tr>\n",
              "    <tr>\n",
              "      <th>605</th>\n",
              "      <td>Frontier</td>\n",
              "      <td>['Adventure', 'Drama', 'History']</td>\n",
              "      <td>7.2</td>\n",
              "      <td>15,831</td>\n",
              "      <td>Follows Declan Harp, a half-Irish/half Cre...</td>\n",
              "    </tr>\n",
              "    <tr>\n",
              "      <th>3539</th>\n",
              "      <td>The Angry Video Game Nerd</td>\n",
              "      <td>['Comedy', 'Talk-Show']</td>\n",
              "      <td>8.5</td>\n",
              "      <td>13,798</td>\n",
              "      <td>A series about a serious video game fan wh...</td>\n",
              "    </tr>\n",
              "    <tr>\n",
              "      <th>5761</th>\n",
              "      <td>Cobra</td>\n",
              "      <td>['Action', 'Adventure']</td>\n",
              "      <td>6.5</td>\n",
              "      <td>455</td>\n",
              "      <td>When the traditional judicial system fails...</td>\n",
              "    </tr>\n",
              "    <tr>\n",
              "      <th>6527</th>\n",
              "      <td>Bitchin' Rides</td>\n",
              "      <td>['Reality-TV']</td>\n",
              "      <td>7.5</td>\n",
              "      <td>262</td>\n",
              "      <td>Dave Kindig and his crew in his Salt Lake ...</td>\n",
              "    </tr>\n",
              "  </tbody>\n",
              "</table>\n",
              "</div>"
            ],
            "text/plain": [
              "                           Name  ...                                          Storyline\n",
              "8290                 Szomszédok  ...      The everyday life of four families at a ho...\n",
              "605                    Frontier  ...      Follows Declan Harp, a half-Irish/half Cre...\n",
              "3539  The Angry Video Game Nerd  ...      A series about a serious video game fan wh...\n",
              "5761                      Cobra  ...      When the traditional judicial system fails...\n",
              "6527             Bitchin' Rides  ...      Dave Kindig and his crew in his Salt Lake ...\n",
              "\n",
              "[5 rows x 5 columns]"
            ]
          },
          "metadata": {
            "tags": []
          },
          "execution_count": 13
        }
      ]
    },
    {
      "cell_type": "code",
      "metadata": {
        "id": "RtZbYWKIiWnM",
        "colab_type": "code",
        "colab": {
          "base_uri": "https://localhost:8080/",
          "height": 289
        },
        "outputId": "d95e45e6-a66e-4cfe-c739-ee0d0299e928"
      },
      "source": [
        "sample_df.apply(add_Bert_column, axis=1)"
      ],
      "execution_count": null,
      "outputs": [
        {
          "output_type": "execute_result",
          "data": {
            "text/html": [
              "<div>\n",
              "<style scoped>\n",
              "    .dataframe tbody tr th:only-of-type {\n",
              "        vertical-align: middle;\n",
              "    }\n",
              "\n",
              "    .dataframe tbody tr th {\n",
              "        vertical-align: top;\n",
              "    }\n",
              "\n",
              "    .dataframe thead th {\n",
              "        text-align: right;\n",
              "    }\n",
              "</style>\n",
              "<table border=\"1\" class=\"dataframe\">\n",
              "  <thead>\n",
              "    <tr style=\"text-align: right;\">\n",
              "      <th></th>\n",
              "      <th>Name</th>\n",
              "      <th>Genres</th>\n",
              "      <th>Score</th>\n",
              "      <th>Votes</th>\n",
              "      <th>Storyline</th>\n",
              "      <th>Bert vector</th>\n",
              "    </tr>\n",
              "  </thead>\n",
              "  <tbody>\n",
              "    <tr>\n",
              "      <th>8290</th>\n",
              "      <td>Szomszédok</td>\n",
              "      <td>['Drama', 'Family', 'Romance']</td>\n",
              "      <td>6.6</td>\n",
              "      <td>767</td>\n",
              "      <td>The everyday life of four families at a ho...</td>\n",
              "      <td>[-0.5061708, -0.21353494, -0.43998682, -0.3419...</td>\n",
              "    </tr>\n",
              "    <tr>\n",
              "      <th>605</th>\n",
              "      <td>Frontier</td>\n",
              "      <td>['Adventure', 'Drama', 'History']</td>\n",
              "      <td>7.2</td>\n",
              "      <td>15,831</td>\n",
              "      <td>Follows Declan Harp, a half-Irish/half Cre...</td>\n",
              "      <td>[-0.63864297, -0.67690116, -0.40990752, 0.2392...</td>\n",
              "    </tr>\n",
              "    <tr>\n",
              "      <th>3539</th>\n",
              "      <td>The Angry Video Game Nerd</td>\n",
              "      <td>['Comedy', 'Talk-Show']</td>\n",
              "      <td>8.5</td>\n",
              "      <td>13,798</td>\n",
              "      <td>A series about a serious video game fan wh...</td>\n",
              "      <td>[-0.07893824, -0.79153925, -0.23967892, -0.262...</td>\n",
              "    </tr>\n",
              "    <tr>\n",
              "      <th>5761</th>\n",
              "      <td>Cobra</td>\n",
              "      <td>['Action', 'Adventure']</td>\n",
              "      <td>6.5</td>\n",
              "      <td>455</td>\n",
              "      <td>When the traditional judicial system fails...</td>\n",
              "      <td>[-0.3917976, -0.676937, -0.45623264, 0.3461451...</td>\n",
              "    </tr>\n",
              "    <tr>\n",
              "      <th>6527</th>\n",
              "      <td>Bitchin' Rides</td>\n",
              "      <td>['Reality-TV']</td>\n",
              "      <td>7.5</td>\n",
              "      <td>262</td>\n",
              "      <td>Dave Kindig and his crew in his Salt Lake ...</td>\n",
              "      <td>[-0.32568833, 0.47927758, -0.6824654, 0.126722...</td>\n",
              "    </tr>\n",
              "  </tbody>\n",
              "</table>\n",
              "</div>"
            ],
            "text/plain": [
              "                           Name  ...                                        Bert vector\n",
              "8290                 Szomszédok  ...  [-0.5061708, -0.21353494, -0.43998682, -0.3419...\n",
              "605                    Frontier  ...  [-0.63864297, -0.67690116, -0.40990752, 0.2392...\n",
              "3539  The Angry Video Game Nerd  ...  [-0.07893824, -0.79153925, -0.23967892, -0.262...\n",
              "5761                      Cobra  ...  [-0.3917976, -0.676937, -0.45623264, 0.3461451...\n",
              "6527             Bitchin' Rides  ...  [-0.32568833, 0.47927758, -0.6824654, 0.126722...\n",
              "\n",
              "[5 rows x 6 columns]"
            ]
          },
          "metadata": {
            "tags": []
          },
          "execution_count": 14
        }
      ]
    },
    {
      "cell_type": "markdown",
      "metadata": {
        "id": "cXJ64Kl4i0mD",
        "colab_type": "text"
      },
      "source": [
        "So our strategy works, but beware that there is some entry in the Storyline column which is not a string! Why? Perhaps it is empty?"
      ]
    },
    {
      "cell_type": "code",
      "metadata": {
        "id": "7zmUSdyvkIWx",
        "colab_type": "code",
        "colab": {}
      },
      "source": [
        "df_clean=df[df.Storyline.notnull()]"
      ],
      "execution_count": null,
      "outputs": []
    },
    {
      "cell_type": "code",
      "metadata": {
        "id": "l5lKDALxmI4d",
        "colab_type": "code",
        "colab": {
          "base_uri": "https://localhost:8080/",
          "height": 1000
        },
        "outputId": "05e55a90-1d2c-4c3d-cb4d-146824c8ad4b"
      },
      "source": [
        "sample_clean=df_clean.sample(n=50)\n",
        "sample_clean"
      ],
      "execution_count": null,
      "outputs": [
        {
          "output_type": "execute_result",
          "data": {
            "text/html": [
              "<div>\n",
              "<style scoped>\n",
              "    .dataframe tbody tr th:only-of-type {\n",
              "        vertical-align: middle;\n",
              "    }\n",
              "\n",
              "    .dataframe tbody tr th {\n",
              "        vertical-align: top;\n",
              "    }\n",
              "\n",
              "    .dataframe thead th {\n",
              "        text-align: right;\n",
              "    }\n",
              "</style>\n",
              "<table border=\"1\" class=\"dataframe\">\n",
              "  <thead>\n",
              "    <tr style=\"text-align: right;\">\n",
              "      <th></th>\n",
              "      <th>Name</th>\n",
              "      <th>Genres</th>\n",
              "      <th>Score</th>\n",
              "      <th>Votes</th>\n",
              "      <th>Storyline</th>\n",
              "    </tr>\n",
              "  </thead>\n",
              "  <tbody>\n",
              "    <tr>\n",
              "      <th>2060</th>\n",
              "      <td>The Honeymooners</td>\n",
              "      <td>['Comedy', 'Family']</td>\n",
              "      <td>8.6</td>\n",
              "      <td>4,532</td>\n",
              "      <td>Ralph Kramden is a New York bus driver who...</td>\n",
              "    </tr>\n",
              "    <tr>\n",
              "      <th>6338</th>\n",
              "      <td>The Chris Isaak Show</td>\n",
              "      <td>['Comedy', 'Music']</td>\n",
              "      <td>7.8</td>\n",
              "      <td>621</td>\n",
              "      <td>Chris plays himself as a low-key, nebbishy...</td>\n",
              "    </tr>\n",
              "    <tr>\n",
              "      <th>6428</th>\n",
              "      <td>Baieti de Oras</td>\n",
              "      <td>['Comedy']</td>\n",
              "      <td>7.8</td>\n",
              "      <td>305</td>\n",
              "      <td>Six friends, all with different lifestyles...</td>\n",
              "    </tr>\n",
              "    <tr>\n",
              "      <th>5724</th>\n",
              "      <td>Night Visions</td>\n",
              "      <td>['Fantasy', 'Horror', 'Mystery']</td>\n",
              "      <td>7.5</td>\n",
              "      <td>798</td>\n",
              "      <td>Night Visions is an anthology series simil...</td>\n",
              "    </tr>\n",
              "    <tr>\n",
              "      <th>3189</th>\n",
              "      <td>American Odyssey</td>\n",
              "      <td>['Action', 'Drama', 'Thriller']</td>\n",
              "      <td>7.3</td>\n",
              "      <td>5,885</td>\n",
              "      <td>Three families are torn apart when a stran...</td>\n",
              "    </tr>\n",
              "    <tr>\n",
              "      <th>5035</th>\n",
              "      <td>Neon Joe, Werewolf Hunter</td>\n",
              "      <td>['Comedy', 'Horror', 'Sci-Fi']</td>\n",
              "      <td>7.2</td>\n",
              "      <td>778</td>\n",
              "      <td>Set in the pretend sleepy enclave of Garri...</td>\n",
              "    </tr>\n",
              "    <tr>\n",
              "      <th>6905</th>\n",
              "      <td>Strike Witches</td>\n",
              "      <td>['Animation', 'Action', 'Comedy']</td>\n",
              "      <td>6.4</td>\n",
              "      <td>314</td>\n",
              "      <td>The story takes place in year 1944 and the...</td>\n",
              "    </tr>\n",
              "    <tr>\n",
              "      <th>547</th>\n",
              "      <td>Snowfall</td>\n",
              "      <td>['Crime', 'Drama']</td>\n",
              "      <td>8.0</td>\n",
              "      <td>9,296</td>\n",
              "      <td>A look at the early days of the crack coca...</td>\n",
              "    </tr>\n",
              "    <tr>\n",
              "      <th>5473</th>\n",
              "      <td>Granite Flats</td>\n",
              "      <td>['Drama']</td>\n",
              "      <td>8.0</td>\n",
              "      <td>950</td>\n",
              "      <td>When a mysterious object falls from the sk...</td>\n",
              "    </tr>\n",
              "    <tr>\n",
              "      <th>2022</th>\n",
              "      <td>DC Super Hero Girls</td>\n",
              "      <td>['Animation', 'Action', 'Adventure']</td>\n",
              "      <td>7.0</td>\n",
              "      <td>510</td>\n",
              "      <td>Teenage versions of DC Comics superheroine...</td>\n",
              "    </tr>\n",
              "    <tr>\n",
              "      <th>3208</th>\n",
              "      <td>Fruits Basket</td>\n",
              "      <td>['Animation', 'Comedy', 'Drama']</td>\n",
              "      <td>7.9</td>\n",
              "      <td>5,097</td>\n",
              "      <td>After her mother's death, Tohru Honda find...</td>\n",
              "    </tr>\n",
              "    <tr>\n",
              "      <th>1728</th>\n",
              "      <td>Soundtrack</td>\n",
              "      <td>['Drama', 'Musical']</td>\n",
              "      <td>6.7</td>\n",
              "      <td>1,538</td>\n",
              "      <td>Music connects the lives of random people ...</td>\n",
              "    </tr>\n",
              "    <tr>\n",
              "      <th>8584</th>\n",
              "      <td>Knallerfrauen</td>\n",
              "      <td>['Comedy']</td>\n",
              "      <td>7.4</td>\n",
              "      <td>657</td>\n",
              "      <td>Knallerfrauen is a German sketch comedy se...</td>\n",
              "    </tr>\n",
              "    <tr>\n",
              "      <th>8069</th>\n",
              "      <td>James May's Man Lab</td>\n",
              "      <td>['Documentary']</td>\n",
              "      <td>7.8</td>\n",
              "      <td>899</td>\n",
              "      <td>James May and the Man Lab crew set out bui...</td>\n",
              "    </tr>\n",
              "    <tr>\n",
              "      <th>257</th>\n",
              "      <td>Love Life</td>\n",
              "      <td>['Comedy', 'Romance']</td>\n",
              "      <td>7.4</td>\n",
              "      <td>3,579</td>\n",
              "      <td>Anna Kendrick stars in a fresh take on a r...</td>\n",
              "    </tr>\n",
              "    <tr>\n",
              "      <th>80</th>\n",
              "      <td>How to Get Away with Murder</td>\n",
              "      <td>['Crime', 'Drama', 'Mystery']</td>\n",
              "      <td>8.1</td>\n",
              "      <td>119,354</td>\n",
              "      <td>A sexy, suspense-driven legal thriller abo...</td>\n",
              "    </tr>\n",
              "    <tr>\n",
              "      <th>9160</th>\n",
              "      <td>Work of Art: The Next Great Artist</td>\n",
              "      <td>['Reality-TV']</td>\n",
              "      <td>7.4</td>\n",
              "      <td>533</td>\n",
              "      <td>Contestants are faced with the challenge o...</td>\n",
              "    </tr>\n",
              "    <tr>\n",
              "      <th>2937</th>\n",
              "      <td>A Crime to Remember</td>\n",
              "      <td>['Documentary', 'Crime']</td>\n",
              "      <td>8.4</td>\n",
              "      <td>885</td>\n",
              "      <td>The show recreates famous crimes from the ...</td>\n",
              "    </tr>\n",
              "    <tr>\n",
              "      <th>2542</th>\n",
              "      <td>Sunderland 'Til I Die</td>\n",
              "      <td>['Documentary']</td>\n",
              "      <td>8.2</td>\n",
              "      <td>5,851</td>\n",
              "      <td>Highlights the unfailing passion Sunderlan...</td>\n",
              "    </tr>\n",
              "    <tr>\n",
              "      <th>2802</th>\n",
              "      <td>The Torkelsons</td>\n",
              "      <td>['Comedy', 'Drama', 'Family']</td>\n",
              "      <td>7.8</td>\n",
              "      <td>920</td>\n",
              "      <td>As a single mother of five, Mrs. Millicent...</td>\n",
              "    </tr>\n",
              "    <tr>\n",
              "      <th>7194</th>\n",
              "      <td>Hope Springs</td>\n",
              "      <td>['Drama']</td>\n",
              "      <td>7.0</td>\n",
              "      <td>274</td>\n",
              "      <td>Four recently paroled female English thiev...</td>\n",
              "    </tr>\n",
              "    <tr>\n",
              "      <th>5800</th>\n",
              "      <td>Shining Time Station</td>\n",
              "      <td>['Comedy', 'Family', 'Fantasy']</td>\n",
              "      <td>7.9</td>\n",
              "      <td>594</td>\n",
              "      <td>An American version of the popular British...</td>\n",
              "    </tr>\n",
              "    <tr>\n",
              "      <th>8288</th>\n",
              "      <td>就是要你愛上我</td>\n",
              "      <td>['Romance']</td>\n",
              "      <td>7.4</td>\n",
              "      <td>306</td>\n",
              "      <td>Revolves around Cheng Liang Liang who afte...</td>\n",
              "    </tr>\n",
              "    <tr>\n",
              "      <th>3927</th>\n",
              "      <td>John from Cincinnati</td>\n",
              "      <td>['Drama', 'Fantasy', 'Mystery']</td>\n",
              "      <td>7.1</td>\n",
              "      <td>4,603</td>\n",
              "      <td>In Imperial Beach, California, the dysfunc...</td>\n",
              "    </tr>\n",
              "    <tr>\n",
              "      <th>562</th>\n",
              "      <td>Saturday Night Live</td>\n",
              "      <td>['Comedy', 'Music']</td>\n",
              "      <td>8.1</td>\n",
              "      <td>41,638</td>\n",
              "      <td>A late-night comedy show featuring several...</td>\n",
              "    </tr>\n",
              "    <tr>\n",
              "      <th>1770</th>\n",
              "      <td>Rowan &amp; Martin's Laugh-In</td>\n",
              "      <td>['Comedy', 'Music']</td>\n",
              "      <td>8.0</td>\n",
              "      <td>2,455</td>\n",
              "      <td>This show popularized a rapid style of vig...</td>\n",
              "    </tr>\n",
              "    <tr>\n",
              "      <th>7438</th>\n",
              "      <td>Reservoir Chronicle: Tsubasa</td>\n",
              "      <td>['Animation', 'Action', 'Adventure']</td>\n",
              "      <td>7.4</td>\n",
              "      <td>1,159</td>\n",
              "      <td>Syaoran, a boy who wants to become an arch...</td>\n",
              "    </tr>\n",
              "    <tr>\n",
              "      <th>1450</th>\n",
              "      <td>The Staircase</td>\n",
              "      <td>['Documentary', 'Crime', 'Drama']</td>\n",
              "      <td>7.9</td>\n",
              "      <td>16,955</td>\n",
              "      <td>Academy Award-winning documentary filmmake...</td>\n",
              "    </tr>\n",
              "    <tr>\n",
              "      <th>9045</th>\n",
              "      <td>Szürreality Show</td>\n",
              "      <td>['Reality-TV']</td>\n",
              "      <td>9.5</td>\n",
              "      <td>506</td>\n",
              "      <td>What is the theme of the Surreality Show, ...</td>\n",
              "    </tr>\n",
              "    <tr>\n",
              "      <th>246</th>\n",
              "      <td>Mom</td>\n",
              "      <td>['Comedy', 'Drama', 'Romance']</td>\n",
              "      <td>7.2</td>\n",
              "      <td>27,049</td>\n",
              "      <td>Single mom Christy has her hands full with...</td>\n",
              "    </tr>\n",
              "    <tr>\n",
              "      <th>1020</th>\n",
              "      <td>The Restaurant</td>\n",
              "      <td>['Drama']</td>\n",
              "      <td>8.2</td>\n",
              "      <td>2,717</td>\n",
              "      <td>In May 1945, peace is proclaimed all over ...</td>\n",
              "    </tr>\n",
              "    <tr>\n",
              "      <th>3758</th>\n",
              "      <td>The Pet Girl of Sakurasou</td>\n",
              "      <td>['Animation', 'Comedy', 'Drama']</td>\n",
              "      <td>7.8</td>\n",
              "      <td>2,649</td>\n",
              "      <td>Sakura Dormitory is a dorm of the high sch...</td>\n",
              "    </tr>\n",
              "    <tr>\n",
              "      <th>4977</th>\n",
              "      <td>Boston Common</td>\n",
              "      <td>['Comedy']</td>\n",
              "      <td>7.0</td>\n",
              "      <td>646</td>\n",
              "      <td>Boyd Pritchett is a guy from Virginia who ...</td>\n",
              "    </tr>\n",
              "    <tr>\n",
              "      <th>762</th>\n",
              "      <td>The L Word</td>\n",
              "      <td>['Drama', 'Romance']</td>\n",
              "      <td>7.6</td>\n",
              "      <td>23,629</td>\n",
              "      <td>'The L Word' follows the lives and loves o...</td>\n",
              "    </tr>\n",
              "    <tr>\n",
              "      <th>8287</th>\n",
              "      <td>True Tears</td>\n",
              "      <td>['Animation', 'Drama', 'Romance']</td>\n",
              "      <td>7.3</td>\n",
              "      <td>396</td>\n",
              "      <td>Living together with the girl he love shou...</td>\n",
              "    </tr>\n",
              "    <tr>\n",
              "      <th>2357</th>\n",
              "      <td>Small Wonder</td>\n",
              "      <td>['Comedy', 'Family', 'Sci-Fi']</td>\n",
              "      <td>7.1</td>\n",
              "      <td>4,356</td>\n",
              "      <td>Father Ted Lawson creates a robot, VICI (p...</td>\n",
              "    </tr>\n",
              "    <tr>\n",
              "      <th>2501</th>\n",
              "      <td>Pixar in Real Life</td>\n",
              "      <td>['Comedy', 'Family', 'Reality-TV']</td>\n",
              "      <td>6.4</td>\n",
              "      <td>315</td>\n",
              "      <td>This live action series brings iconic char...</td>\n",
              "    </tr>\n",
              "    <tr>\n",
              "      <th>5868</th>\n",
              "      <td>ChuckleVision</td>\n",
              "      <td>['Comedy', 'Family']</td>\n",
              "      <td>7.2</td>\n",
              "      <td>1,679</td>\n",
              "      <td>Crazy antics ensue when Barry and Paul Chu...</td>\n",
              "    </tr>\n",
              "    <tr>\n",
              "      <th>3562</th>\n",
              "      <td>The Ancient Magus' Bride</td>\n",
              "      <td>['Animation', 'Fantasy', 'Horror']</td>\n",
              "      <td>7.8</td>\n",
              "      <td>1,830</td>\n",
              "      <td>Chise Hatori is 15. She, for some reason, ...</td>\n",
              "    </tr>\n",
              "    <tr>\n",
              "      <th>9219</th>\n",
              "      <td>Khate ghermez</td>\n",
              "      <td>['Adventure', 'Drama', 'Family']</td>\n",
              "      <td>6.0</td>\n",
              "      <td>603</td>\n",
              "      <td>The journey of a few young men that turns ...</td>\n",
              "    </tr>\n",
              "    <tr>\n",
              "      <th>6256</th>\n",
              "      <td>Joe 90</td>\n",
              "      <td>['Adventure', 'Family', 'Sci-Fi']</td>\n",
              "      <td>6.7</td>\n",
              "      <td>483</td>\n",
              "      <td>Joe McClaine is a 9-year-old boy whose ado...</td>\n",
              "    </tr>\n",
              "    <tr>\n",
              "      <th>930</th>\n",
              "      <td>Ófærð</td>\n",
              "      <td>['Crime', 'Drama', 'Mystery']</td>\n",
              "      <td>8.1</td>\n",
              "      <td>14,335</td>\n",
              "      <td>In a remote town in Iceland, Police desper...</td>\n",
              "    </tr>\n",
              "    <tr>\n",
              "      <th>7109</th>\n",
              "      <td>Fauji</td>\n",
              "      <td>['Action', 'Drama']</td>\n",
              "      <td>8.2</td>\n",
              "      <td>2,732</td>\n",
              "      <td>A Highly popular TV Series about a batch o...</td>\n",
              "    </tr>\n",
              "    <tr>\n",
              "      <th>8429</th>\n",
              "      <td>Roque Santeiro</td>\n",
              "      <td>['Comedy', 'Drama', 'Fantasy']</td>\n",
              "      <td>8.3</td>\n",
              "      <td>428</td>\n",
              "      <td>In the tiny poor town of Asa Branca, in th...</td>\n",
              "    </tr>\n",
              "    <tr>\n",
              "      <th>6875</th>\n",
              "      <td>Stanley</td>\n",
              "      <td>['Animation', 'Comedy', 'Family']</td>\n",
              "      <td>6.6</td>\n",
              "      <td>482</td>\n",
              "      <td>Stanley is an imaginative and creative lit...</td>\n",
              "    </tr>\n",
              "    <tr>\n",
              "      <th>70</th>\n",
              "      <td>Sherlock</td>\n",
              "      <td>['Crime', 'Drama', 'Mystery']</td>\n",
              "      <td>9.1</td>\n",
              "      <td>773,627</td>\n",
              "      <td>In this modernized version of the Conan Do...</td>\n",
              "    </tr>\n",
              "    <tr>\n",
              "      <th>2826</th>\n",
              "      <td>Lady Dynamite</td>\n",
              "      <td>['Comedy']</td>\n",
              "      <td>7.4</td>\n",
              "      <td>3,164</td>\n",
              "      <td>Series is based on what Maria has accepted...</td>\n",
              "    </tr>\n",
              "    <tr>\n",
              "      <th>7660</th>\n",
              "      <td>The Magic Roundabout</td>\n",
              "      <td>['Animation', 'Adventure', 'Comedy']</td>\n",
              "      <td>7.0</td>\n",
              "      <td>274</td>\n",
              "      <td>Cult classic children's animated series ab...</td>\n",
              "    </tr>\n",
              "    <tr>\n",
              "      <th>1175</th>\n",
              "      <td>Canada's Drag Race</td>\n",
              "      <td>['Game-Show', 'Reality-TV']</td>\n",
              "      <td>7.6</td>\n",
              "      <td>294</td>\n",
              "      <td>12 drag queens compete to become Canada's ...</td>\n",
              "    </tr>\n",
              "    <tr>\n",
              "      <th>2491</th>\n",
              "      <td>Afili Ask</td>\n",
              "      <td>['Comedy', 'Romance']</td>\n",
              "      <td>6.3</td>\n",
              "      <td>773</td>\n",
              "      <td>Tells the story of Ayse, who due to slande...</td>\n",
              "    </tr>\n",
              "  </tbody>\n",
              "</table>\n",
              "</div>"
            ],
            "text/plain": [
              "                                    Name  ...                                          Storyline\n",
              "2060                    The Honeymooners  ...      Ralph Kramden is a New York bus driver who...\n",
              "6338                The Chris Isaak Show  ...      Chris plays himself as a low-key, nebbishy...\n",
              "6428                      Baieti de Oras  ...      Six friends, all with different lifestyles...\n",
              "5724                       Night Visions  ...      Night Visions is an anthology series simil...\n",
              "3189                    American Odyssey  ...      Three families are torn apart when a stran...\n",
              "5035           Neon Joe, Werewolf Hunter  ...      Set in the pretend sleepy enclave of Garri...\n",
              "6905                      Strike Witches  ...      The story takes place in year 1944 and the...\n",
              "547                             Snowfall  ...      A look at the early days of the crack coca...\n",
              "5473                       Granite Flats  ...      When a mysterious object falls from the sk...\n",
              "2022                 DC Super Hero Girls  ...      Teenage versions of DC Comics superheroine...\n",
              "3208                       Fruits Basket  ...      After her mother's death, Tohru Honda find...\n",
              "1728                          Soundtrack  ...      Music connects the lives of random people ...\n",
              "8584                       Knallerfrauen  ...      Knallerfrauen is a German sketch comedy se...\n",
              "8069                 James May's Man Lab  ...      James May and the Man Lab crew set out bui...\n",
              "257                            Love Life  ...      Anna Kendrick stars in a fresh take on a r...\n",
              "80           How to Get Away with Murder  ...      A sexy, suspense-driven legal thriller abo...\n",
              "9160  Work of Art: The Next Great Artist  ...      Contestants are faced with the challenge o...\n",
              "2937                 A Crime to Remember  ...      The show recreates famous crimes from the ...\n",
              "2542               Sunderland 'Til I Die  ...      Highlights the unfailing passion Sunderlan...\n",
              "2802                      The Torkelsons  ...      As a single mother of five, Mrs. Millicent...\n",
              "7194                        Hope Springs  ...      Four recently paroled female English thiev...\n",
              "5800                Shining Time Station  ...      An American version of the popular British...\n",
              "8288                             就是要你愛上我  ...      Revolves around Cheng Liang Liang who afte...\n",
              "3927                John from Cincinnati  ...      In Imperial Beach, California, the dysfunc...\n",
              "562                  Saturday Night Live  ...      A late-night comedy show featuring several...\n",
              "1770           Rowan & Martin's Laugh-In  ...      This show popularized a rapid style of vig...\n",
              "7438        Reservoir Chronicle: Tsubasa  ...      Syaoran, a boy who wants to become an arch...\n",
              "1450                       The Staircase  ...      Academy Award-winning documentary filmmake...\n",
              "9045                    Szürreality Show  ...      What is the theme of the Surreality Show, ...\n",
              "246                                  Mom  ...      Single mom Christy has her hands full with...\n",
              "1020                      The Restaurant  ...      In May 1945, peace is proclaimed all over ...\n",
              "3758           The Pet Girl of Sakurasou  ...      Sakura Dormitory is a dorm of the high sch...\n",
              "4977                       Boston Common  ...      Boyd Pritchett is a guy from Virginia who ...\n",
              "762                           The L Word  ...      'The L Word' follows the lives and loves o...\n",
              "8287                          True Tears  ...      Living together with the girl he love shou...\n",
              "2357                        Small Wonder  ...      Father Ted Lawson creates a robot, VICI (p...\n",
              "2501                  Pixar in Real Life  ...      This live action series brings iconic char...\n",
              "5868                       ChuckleVision  ...      Crazy antics ensue when Barry and Paul Chu...\n",
              "3562            The Ancient Magus' Bride  ...      Chise Hatori is 15. She, for some reason, ...\n",
              "9219                       Khate ghermez  ...      The journey of a few young men that turns ...\n",
              "6256                              Joe 90  ...      Joe McClaine is a 9-year-old boy whose ado...\n",
              "930                                Ófærð  ...      In a remote town in Iceland, Police desper...\n",
              "7109                               Fauji  ...      A Highly popular TV Series about a batch o...\n",
              "8429                      Roque Santeiro  ...      In the tiny poor town of Asa Branca, in th...\n",
              "6875                             Stanley  ...      Stanley is an imaginative and creative lit...\n",
              "70                              Sherlock  ...      In this modernized version of the Conan Do...\n",
              "2826                       Lady Dynamite  ...      Series is based on what Maria has accepted...\n",
              "7660                The Magic Roundabout  ...      Cult classic children's animated series ab...\n",
              "1175                  Canada's Drag Race  ...      12 drag queens compete to become Canada's ...\n",
              "2491                           Afili Ask  ...      Tells the story of Ayse, who due to slande...\n",
              "\n",
              "[50 rows x 5 columns]"
            ]
          },
          "metadata": {
            "tags": []
          },
          "execution_count": 20
        }
      ]
    },
    {
      "cell_type": "code",
      "metadata": {
        "id": "2Ro_C9gOmQoO",
        "colab_type": "code",
        "colab": {}
      },
      "source": [
        "sample_berted = sample_clean.apply(add_Bert_column, axis=1)"
      ],
      "execution_count": null,
      "outputs": []
    },
    {
      "cell_type": "code",
      "metadata": {
        "id": "tIknysFumbaa",
        "colab_type": "code",
        "colab": {
          "base_uri": "https://localhost:8080/",
          "height": 1000
        },
        "outputId": "693bff26-5910-4196-d3f6-a6452925df03"
      },
      "source": [
        "sample_berted"
      ],
      "execution_count": null,
      "outputs": [
        {
          "output_type": "execute_result",
          "data": {
            "text/html": [
              "<div>\n",
              "<style scoped>\n",
              "    .dataframe tbody tr th:only-of-type {\n",
              "        vertical-align: middle;\n",
              "    }\n",
              "\n",
              "    .dataframe tbody tr th {\n",
              "        vertical-align: top;\n",
              "    }\n",
              "\n",
              "    .dataframe thead th {\n",
              "        text-align: right;\n",
              "    }\n",
              "</style>\n",
              "<table border=\"1\" class=\"dataframe\">\n",
              "  <thead>\n",
              "    <tr style=\"text-align: right;\">\n",
              "      <th></th>\n",
              "      <th>Name</th>\n",
              "      <th>Genres</th>\n",
              "      <th>Score</th>\n",
              "      <th>Votes</th>\n",
              "      <th>Storyline</th>\n",
              "      <th>Bert vector</th>\n",
              "    </tr>\n",
              "  </thead>\n",
              "  <tbody>\n",
              "    <tr>\n",
              "      <th>2060</th>\n",
              "      <td>The Honeymooners</td>\n",
              "      <td>['Comedy', 'Family']</td>\n",
              "      <td>8.6</td>\n",
              "      <td>4,532</td>\n",
              "      <td>Ralph Kramden is a New York bus driver who...</td>\n",
              "      <td>[-0.69951004, -0.35813463, -0.62968767, 0.1170...</td>\n",
              "    </tr>\n",
              "    <tr>\n",
              "      <th>6338</th>\n",
              "      <td>The Chris Isaak Show</td>\n",
              "      <td>['Comedy', 'Music']</td>\n",
              "      <td>7.8</td>\n",
              "      <td>621</td>\n",
              "      <td>Chris plays himself as a low-key, nebbishy...</td>\n",
              "      <td>[-0.54087603, -0.24936864, -0.4600258, -0.1614...</td>\n",
              "    </tr>\n",
              "    <tr>\n",
              "      <th>6428</th>\n",
              "      <td>Baieti de Oras</td>\n",
              "      <td>['Comedy']</td>\n",
              "      <td>7.8</td>\n",
              "      <td>305</td>\n",
              "      <td>Six friends, all with different lifestyles...</td>\n",
              "      <td>[-0.4404717, -0.06990207, -0.593798, -0.182721...</td>\n",
              "    </tr>\n",
              "    <tr>\n",
              "      <th>5724</th>\n",
              "      <td>Night Visions</td>\n",
              "      <td>['Fantasy', 'Horror', 'Mystery']</td>\n",
              "      <td>7.5</td>\n",
              "      <td>798</td>\n",
              "      <td>Night Visions is an anthology series simil...</td>\n",
              "      <td>[-0.32406402, -0.7709435, -0.072052374, -0.081...</td>\n",
              "    </tr>\n",
              "    <tr>\n",
              "      <th>3189</th>\n",
              "      <td>American Odyssey</td>\n",
              "      <td>['Action', 'Drama', 'Thriller']</td>\n",
              "      <td>7.3</td>\n",
              "      <td>5,885</td>\n",
              "      <td>Three families are torn apart when a stran...</td>\n",
              "      <td>[-0.08233038, 0.22790723, 0.10217152, -0.07743...</td>\n",
              "    </tr>\n",
              "    <tr>\n",
              "      <th>5035</th>\n",
              "      <td>Neon Joe, Werewolf Hunter</td>\n",
              "      <td>['Comedy', 'Horror', 'Sci-Fi']</td>\n",
              "      <td>7.2</td>\n",
              "      <td>778</td>\n",
              "      <td>Set in the pretend sleepy enclave of Garri...</td>\n",
              "      <td>[-0.23787402, -0.4893779, 0.2309962, -0.825220...</td>\n",
              "    </tr>\n",
              "    <tr>\n",
              "      <th>6905</th>\n",
              "      <td>Strike Witches</td>\n",
              "      <td>['Animation', 'Action', 'Comedy']</td>\n",
              "      <td>6.4</td>\n",
              "      <td>314</td>\n",
              "      <td>The story takes place in year 1944 and the...</td>\n",
              "      <td>[-0.61902875, -0.69865894, -0.052179985, -0.40...</td>\n",
              "    </tr>\n",
              "    <tr>\n",
              "      <th>547</th>\n",
              "      <td>Snowfall</td>\n",
              "      <td>['Crime', 'Drama']</td>\n",
              "      <td>8.0</td>\n",
              "      <td>9,296</td>\n",
              "      <td>A look at the early days of the crack coca...</td>\n",
              "      <td>[-0.18126571, -0.7698967, -0.54964757, -0.1772...</td>\n",
              "    </tr>\n",
              "    <tr>\n",
              "      <th>5473</th>\n",
              "      <td>Granite Flats</td>\n",
              "      <td>['Drama']</td>\n",
              "      <td>8.0</td>\n",
              "      <td>950</td>\n",
              "      <td>When a mysterious object falls from the sk...</td>\n",
              "      <td>[-0.12788418, -0.06497336, 0.020154394, 0.1575...</td>\n",
              "    </tr>\n",
              "    <tr>\n",
              "      <th>2022</th>\n",
              "      <td>DC Super Hero Girls</td>\n",
              "      <td>['Animation', 'Action', 'Adventure']</td>\n",
              "      <td>7.0</td>\n",
              "      <td>510</td>\n",
              "      <td>Teenage versions of DC Comics superheroine...</td>\n",
              "      <td>[-0.74581796, -0.39093974, -0.724196, 1.010443...</td>\n",
              "    </tr>\n",
              "    <tr>\n",
              "      <th>3208</th>\n",
              "      <td>Fruits Basket</td>\n",
              "      <td>['Animation', 'Comedy', 'Drama']</td>\n",
              "      <td>7.9</td>\n",
              "      <td>5,097</td>\n",
              "      <td>After her mother's death, Tohru Honda find...</td>\n",
              "      <td>[-0.6433852, -0.64511967, 0.1279057, -0.526678...</td>\n",
              "    </tr>\n",
              "    <tr>\n",
              "      <th>1728</th>\n",
              "      <td>Soundtrack</td>\n",
              "      <td>['Drama', 'Musical']</td>\n",
              "      <td>6.7</td>\n",
              "      <td>1,538</td>\n",
              "      <td>Music connects the lives of random people ...</td>\n",
              "      <td>[0.2149837, 0.18770787, -0.35204938, 0.1481859...</td>\n",
              "    </tr>\n",
              "    <tr>\n",
              "      <th>8584</th>\n",
              "      <td>Knallerfrauen</td>\n",
              "      <td>['Comedy']</td>\n",
              "      <td>7.4</td>\n",
              "      <td>657</td>\n",
              "      <td>Knallerfrauen is a German sketch comedy se...</td>\n",
              "      <td>[-0.28893337, -0.77612317, -0.15742984, -0.681...</td>\n",
              "    </tr>\n",
              "    <tr>\n",
              "      <th>8069</th>\n",
              "      <td>James May's Man Lab</td>\n",
              "      <td>['Documentary']</td>\n",
              "      <td>7.8</td>\n",
              "      <td>899</td>\n",
              "      <td>James May and the Man Lab crew set out bui...</td>\n",
              "      <td>[-0.41610715, -0.118606836, -0.09081829, 0.180...</td>\n",
              "    </tr>\n",
              "    <tr>\n",
              "      <th>257</th>\n",
              "      <td>Love Life</td>\n",
              "      <td>['Comedy', 'Romance']</td>\n",
              "      <td>7.4</td>\n",
              "      <td>3,579</td>\n",
              "      <td>Anna Kendrick stars in a fresh take on a r...</td>\n",
              "      <td>[-0.48368895, -0.2149412, -0.26528394, -0.0571...</td>\n",
              "    </tr>\n",
              "    <tr>\n",
              "      <th>80</th>\n",
              "      <td>How to Get Away with Murder</td>\n",
              "      <td>['Crime', 'Drama', 'Mystery']</td>\n",
              "      <td>8.1</td>\n",
              "      <td>119,354</td>\n",
              "      <td>A sexy, suspense-driven legal thriller abo...</td>\n",
              "      <td>[0.06150338, -1.1257026, 0.019598352, 0.107341...</td>\n",
              "    </tr>\n",
              "    <tr>\n",
              "      <th>9160</th>\n",
              "      <td>Work of Art: The Next Great Artist</td>\n",
              "      <td>['Reality-TV']</td>\n",
              "      <td>7.4</td>\n",
              "      <td>533</td>\n",
              "      <td>Contestants are faced with the challenge o...</td>\n",
              "      <td>[-0.41326794, -0.15703678, -0.019172598, -0.35...</td>\n",
              "    </tr>\n",
              "    <tr>\n",
              "      <th>2937</th>\n",
              "      <td>A Crime to Remember</td>\n",
              "      <td>['Documentary', 'Crime']</td>\n",
              "      <td>8.4</td>\n",
              "      <td>885</td>\n",
              "      <td>The show recreates famous crimes from the ...</td>\n",
              "      <td>[-0.26268736, -0.34008178, -0.20042543, -0.331...</td>\n",
              "    </tr>\n",
              "    <tr>\n",
              "      <th>2542</th>\n",
              "      <td>Sunderland 'Til I Die</td>\n",
              "      <td>['Documentary']</td>\n",
              "      <td>8.2</td>\n",
              "      <td>5,851</td>\n",
              "      <td>Highlights the unfailing passion Sunderlan...</td>\n",
              "      <td>[-0.031192623, -0.6920556, -0.35877874, 0.0080...</td>\n",
              "    </tr>\n",
              "    <tr>\n",
              "      <th>2802</th>\n",
              "      <td>The Torkelsons</td>\n",
              "      <td>['Comedy', 'Drama', 'Family']</td>\n",
              "      <td>7.8</td>\n",
              "      <td>920</td>\n",
              "      <td>As a single mother of five, Mrs. Millicent...</td>\n",
              "      <td>[-0.9307549, -0.436327, -0.45652422, -0.478718...</td>\n",
              "    </tr>\n",
              "    <tr>\n",
              "      <th>7194</th>\n",
              "      <td>Hope Springs</td>\n",
              "      <td>['Drama']</td>\n",
              "      <td>7.0</td>\n",
              "      <td>274</td>\n",
              "      <td>Four recently paroled female English thiev...</td>\n",
              "      <td>[-0.20086397, -0.2519067, -0.19308852, -0.0483...</td>\n",
              "    </tr>\n",
              "    <tr>\n",
              "      <th>5800</th>\n",
              "      <td>Shining Time Station</td>\n",
              "      <td>['Comedy', 'Family', 'Fantasy']</td>\n",
              "      <td>7.9</td>\n",
              "      <td>594</td>\n",
              "      <td>An American version of the popular British...</td>\n",
              "      <td>[-0.59692985, -1.2270585, -0.23671956, -0.2124...</td>\n",
              "    </tr>\n",
              "    <tr>\n",
              "      <th>8288</th>\n",
              "      <td>就是要你愛上我</td>\n",
              "      <td>['Romance']</td>\n",
              "      <td>7.4</td>\n",
              "      <td>306</td>\n",
              "      <td>Revolves around Cheng Liang Liang who afte...</td>\n",
              "      <td>[-0.5143328, -1.0867534, -0.37828323, -0.79636...</td>\n",
              "    </tr>\n",
              "    <tr>\n",
              "      <th>3927</th>\n",
              "      <td>John from Cincinnati</td>\n",
              "      <td>['Drama', 'Fantasy', 'Mystery']</td>\n",
              "      <td>7.1</td>\n",
              "      <td>4,603</td>\n",
              "      <td>In Imperial Beach, California, the dysfunc...</td>\n",
              "      <td>[-0.30113778, -0.3045045, -0.02962935, -0.1664...</td>\n",
              "    </tr>\n",
              "    <tr>\n",
              "      <th>562</th>\n",
              "      <td>Saturday Night Live</td>\n",
              "      <td>['Comedy', 'Music']</td>\n",
              "      <td>8.1</td>\n",
              "      <td>41,638</td>\n",
              "      <td>A late-night comedy show featuring several...</td>\n",
              "      <td>[-0.38355583, -0.66120696, -0.6814137, -0.6546...</td>\n",
              "    </tr>\n",
              "    <tr>\n",
              "      <th>1770</th>\n",
              "      <td>Rowan &amp; Martin's Laugh-In</td>\n",
              "      <td>['Comedy', 'Music']</td>\n",
              "      <td>8.0</td>\n",
              "      <td>2,455</td>\n",
              "      <td>This show popularized a rapid style of vig...</td>\n",
              "      <td>[-0.0780573, -0.885133, -0.58054763, -0.472226...</td>\n",
              "    </tr>\n",
              "    <tr>\n",
              "      <th>7438</th>\n",
              "      <td>Reservoir Chronicle: Tsubasa</td>\n",
              "      <td>['Animation', 'Action', 'Adventure']</td>\n",
              "      <td>7.4</td>\n",
              "      <td>1,159</td>\n",
              "      <td>Syaoran, a boy who wants to become an arch...</td>\n",
              "      <td>[-0.6314044, -0.24253322, -0.2021268, -0.32984...</td>\n",
              "    </tr>\n",
              "    <tr>\n",
              "      <th>1450</th>\n",
              "      <td>The Staircase</td>\n",
              "      <td>['Documentary', 'Crime', 'Drama']</td>\n",
              "      <td>7.9</td>\n",
              "      <td>16,955</td>\n",
              "      <td>Academy Award-winning documentary filmmake...</td>\n",
              "      <td>[-0.67319524, -0.17708507, -0.2819273, -0.2349...</td>\n",
              "    </tr>\n",
              "    <tr>\n",
              "      <th>9045</th>\n",
              "      <td>Szürreality Show</td>\n",
              "      <td>['Reality-TV']</td>\n",
              "      <td>9.5</td>\n",
              "      <td>506</td>\n",
              "      <td>What is the theme of the Surreality Show, ...</td>\n",
              "      <td>[-0.08297249, -0.40115193, -0.067019336, -0.12...</td>\n",
              "    </tr>\n",
              "    <tr>\n",
              "      <th>246</th>\n",
              "      <td>Mom</td>\n",
              "      <td>['Comedy', 'Drama', 'Romance']</td>\n",
              "      <td>7.2</td>\n",
              "      <td>27,049</td>\n",
              "      <td>Single mom Christy has her hands full with...</td>\n",
              "      <td>[-1.2760875, -0.43526354, -0.68114305, -0.3794...</td>\n",
              "    </tr>\n",
              "    <tr>\n",
              "      <th>1020</th>\n",
              "      <td>The Restaurant</td>\n",
              "      <td>['Drama']</td>\n",
              "      <td>8.2</td>\n",
              "      <td>2,717</td>\n",
              "      <td>In May 1945, peace is proclaimed all over ...</td>\n",
              "      <td>[-0.67384994, -0.13457672, -0.30202216, -0.335...</td>\n",
              "    </tr>\n",
              "    <tr>\n",
              "      <th>3758</th>\n",
              "      <td>The Pet Girl of Sakurasou</td>\n",
              "      <td>['Animation', 'Comedy', 'Drama']</td>\n",
              "      <td>7.8</td>\n",
              "      <td>2,649</td>\n",
              "      <td>Sakura Dormitory is a dorm of the high sch...</td>\n",
              "      <td>[-1.0071596, -0.8377988, -0.33760712, -0.46866...</td>\n",
              "    </tr>\n",
              "    <tr>\n",
              "      <th>4977</th>\n",
              "      <td>Boston Common</td>\n",
              "      <td>['Comedy']</td>\n",
              "      <td>7.0</td>\n",
              "      <td>646</td>\n",
              "      <td>Boyd Pritchett is a guy from Virginia who ...</td>\n",
              "      <td>[-0.40181568, -0.8060414, -0.17545526, -0.1201...</td>\n",
              "    </tr>\n",
              "    <tr>\n",
              "      <th>762</th>\n",
              "      <td>The L Word</td>\n",
              "      <td>['Drama', 'Romance']</td>\n",
              "      <td>7.6</td>\n",
              "      <td>23,629</td>\n",
              "      <td>'The L Word' follows the lives and loves o...</td>\n",
              "      <td>[-0.4424733, -0.59105706, -0.48910758, -0.4893...</td>\n",
              "    </tr>\n",
              "    <tr>\n",
              "      <th>8287</th>\n",
              "      <td>True Tears</td>\n",
              "      <td>['Animation', 'Drama', 'Romance']</td>\n",
              "      <td>7.3</td>\n",
              "      <td>396</td>\n",
              "      <td>Living together with the girl he love shou...</td>\n",
              "      <td>[-0.099928156, -0.72867745, -0.21374767, -0.03...</td>\n",
              "    </tr>\n",
              "    <tr>\n",
              "      <th>2357</th>\n",
              "      <td>Small Wonder</td>\n",
              "      <td>['Comedy', 'Family', 'Sci-Fi']</td>\n",
              "      <td>7.1</td>\n",
              "      <td>4,356</td>\n",
              "      <td>Father Ted Lawson creates a robot, VICI (p...</td>\n",
              "      <td>[-1.1441925, -0.59387565, -0.52557266, 0.15398...</td>\n",
              "    </tr>\n",
              "    <tr>\n",
              "      <th>2501</th>\n",
              "      <td>Pixar in Real Life</td>\n",
              "      <td>['Comedy', 'Family', 'Reality-TV']</td>\n",
              "      <td>6.4</td>\n",
              "      <td>315</td>\n",
              "      <td>This live action series brings iconic char...</td>\n",
              "      <td>[0.017184554, -0.54394954, -0.07986921, -0.193...</td>\n",
              "    </tr>\n",
              "    <tr>\n",
              "      <th>5868</th>\n",
              "      <td>ChuckleVision</td>\n",
              "      <td>['Comedy', 'Family']</td>\n",
              "      <td>7.2</td>\n",
              "      <td>1,679</td>\n",
              "      <td>Crazy antics ensue when Barry and Paul Chu...</td>\n",
              "      <td>[-0.21483853, 0.12391949, -0.4867478, 0.080694...</td>\n",
              "    </tr>\n",
              "    <tr>\n",
              "      <th>3562</th>\n",
              "      <td>The Ancient Magus' Bride</td>\n",
              "      <td>['Animation', 'Fantasy', 'Horror']</td>\n",
              "      <td>7.8</td>\n",
              "      <td>1,830</td>\n",
              "      <td>Chise Hatori is 15. She, for some reason, ...</td>\n",
              "      <td>[-0.6786756, -0.748957, -0.02459495, -0.123425...</td>\n",
              "    </tr>\n",
              "    <tr>\n",
              "      <th>9219</th>\n",
              "      <td>Khate ghermez</td>\n",
              "      <td>['Adventure', 'Drama', 'Family']</td>\n",
              "      <td>6.0</td>\n",
              "      <td>603</td>\n",
              "      <td>The journey of a few young men that turns ...</td>\n",
              "      <td>[-0.37082657, -0.5336477, -0.34356794, -0.2092...</td>\n",
              "    </tr>\n",
              "    <tr>\n",
              "      <th>6256</th>\n",
              "      <td>Joe 90</td>\n",
              "      <td>['Adventure', 'Family', 'Sci-Fi']</td>\n",
              "      <td>6.7</td>\n",
              "      <td>483</td>\n",
              "      <td>Joe McClaine is a 9-year-old boy whose ado...</td>\n",
              "      <td>[-0.9855817, -0.7539093, -0.75544834, -0.26553...</td>\n",
              "    </tr>\n",
              "    <tr>\n",
              "      <th>930</th>\n",
              "      <td>Ófærð</td>\n",
              "      <td>['Crime', 'Drama', 'Mystery']</td>\n",
              "      <td>8.1</td>\n",
              "      <td>14,335</td>\n",
              "      <td>In a remote town in Iceland, Police desper...</td>\n",
              "      <td>[-0.18655416, -0.46213457, 0.06708706, -0.0199...</td>\n",
              "    </tr>\n",
              "    <tr>\n",
              "      <th>7109</th>\n",
              "      <td>Fauji</td>\n",
              "      <td>['Action', 'Drama']</td>\n",
              "      <td>8.2</td>\n",
              "      <td>2,732</td>\n",
              "      <td>A Highly popular TV Series about a batch o...</td>\n",
              "      <td>[-0.8243976, -1.1304708, -0.3488689, -0.170502...</td>\n",
              "    </tr>\n",
              "    <tr>\n",
              "      <th>8429</th>\n",
              "      <td>Roque Santeiro</td>\n",
              "      <td>['Comedy', 'Drama', 'Fantasy']</td>\n",
              "      <td>8.3</td>\n",
              "      <td>428</td>\n",
              "      <td>In the tiny poor town of Asa Branca, in th...</td>\n",
              "      <td>[-0.5592414, -0.26477936, -0.07528724, -0.0029...</td>\n",
              "    </tr>\n",
              "    <tr>\n",
              "      <th>6875</th>\n",
              "      <td>Stanley</td>\n",
              "      <td>['Animation', 'Comedy', 'Family']</td>\n",
              "      <td>6.6</td>\n",
              "      <td>482</td>\n",
              "      <td>Stanley is an imaginative and creative lit...</td>\n",
              "      <td>[-1.1387978, -0.57360137, -0.76750433, -0.1897...</td>\n",
              "    </tr>\n",
              "    <tr>\n",
              "      <th>70</th>\n",
              "      <td>Sherlock</td>\n",
              "      <td>['Crime', 'Drama', 'Mystery']</td>\n",
              "      <td>9.1</td>\n",
              "      <td>773,627</td>\n",
              "      <td>In this modernized version of the Conan Do...</td>\n",
              "      <td>[-1.1658181, -0.8262431, -0.43850225, -0.06302...</td>\n",
              "    </tr>\n",
              "    <tr>\n",
              "      <th>2826</th>\n",
              "      <td>Lady Dynamite</td>\n",
              "      <td>['Comedy']</td>\n",
              "      <td>7.4</td>\n",
              "      <td>3,164</td>\n",
              "      <td>Series is based on what Maria has accepted...</td>\n",
              "      <td>[-0.107416995, -0.9340817, 0.3583273, -0.25716...</td>\n",
              "    </tr>\n",
              "    <tr>\n",
              "      <th>7660</th>\n",
              "      <td>The Magic Roundabout</td>\n",
              "      <td>['Animation', 'Adventure', 'Comedy']</td>\n",
              "      <td>7.0</td>\n",
              "      <td>274</td>\n",
              "      <td>Cult classic children's animated series ab...</td>\n",
              "      <td>[-0.4183281, -0.63995725, -0.33568826, -0.0474...</td>\n",
              "    </tr>\n",
              "    <tr>\n",
              "      <th>1175</th>\n",
              "      <td>Canada's Drag Race</td>\n",
              "      <td>['Game-Show', 'Reality-TV']</td>\n",
              "      <td>7.6</td>\n",
              "      <td>294</td>\n",
              "      <td>12 drag queens compete to become Canada's ...</td>\n",
              "      <td>[-0.4244856, 0.09593097, -0.26446652, 0.148942...</td>\n",
              "    </tr>\n",
              "    <tr>\n",
              "      <th>2491</th>\n",
              "      <td>Afili Ask</td>\n",
              "      <td>['Comedy', 'Romance']</td>\n",
              "      <td>6.3</td>\n",
              "      <td>773</td>\n",
              "      <td>Tells the story of Ayse, who due to slande...</td>\n",
              "      <td>[-0.44131145, -0.5948819, -0.112608366, 0.0223...</td>\n",
              "    </tr>\n",
              "  </tbody>\n",
              "</table>\n",
              "</div>"
            ],
            "text/plain": [
              "                                    Name  ...                                        Bert vector\n",
              "2060                    The Honeymooners  ...  [-0.69951004, -0.35813463, -0.62968767, 0.1170...\n",
              "6338                The Chris Isaak Show  ...  [-0.54087603, -0.24936864, -0.4600258, -0.1614...\n",
              "6428                      Baieti de Oras  ...  [-0.4404717, -0.06990207, -0.593798, -0.182721...\n",
              "5724                       Night Visions  ...  [-0.32406402, -0.7709435, -0.072052374, -0.081...\n",
              "3189                    American Odyssey  ...  [-0.08233038, 0.22790723, 0.10217152, -0.07743...\n",
              "5035           Neon Joe, Werewolf Hunter  ...  [-0.23787402, -0.4893779, 0.2309962, -0.825220...\n",
              "6905                      Strike Witches  ...  [-0.61902875, -0.69865894, -0.052179985, -0.40...\n",
              "547                             Snowfall  ...  [-0.18126571, -0.7698967, -0.54964757, -0.1772...\n",
              "5473                       Granite Flats  ...  [-0.12788418, -0.06497336, 0.020154394, 0.1575...\n",
              "2022                 DC Super Hero Girls  ...  [-0.74581796, -0.39093974, -0.724196, 1.010443...\n",
              "3208                       Fruits Basket  ...  [-0.6433852, -0.64511967, 0.1279057, -0.526678...\n",
              "1728                          Soundtrack  ...  [0.2149837, 0.18770787, -0.35204938, 0.1481859...\n",
              "8584                       Knallerfrauen  ...  [-0.28893337, -0.77612317, -0.15742984, -0.681...\n",
              "8069                 James May's Man Lab  ...  [-0.41610715, -0.118606836, -0.09081829, 0.180...\n",
              "257                            Love Life  ...  [-0.48368895, -0.2149412, -0.26528394, -0.0571...\n",
              "80           How to Get Away with Murder  ...  [0.06150338, -1.1257026, 0.019598352, 0.107341...\n",
              "9160  Work of Art: The Next Great Artist  ...  [-0.41326794, -0.15703678, -0.019172598, -0.35...\n",
              "2937                 A Crime to Remember  ...  [-0.26268736, -0.34008178, -0.20042543, -0.331...\n",
              "2542               Sunderland 'Til I Die  ...  [-0.031192623, -0.6920556, -0.35877874, 0.0080...\n",
              "2802                      The Torkelsons  ...  [-0.9307549, -0.436327, -0.45652422, -0.478718...\n",
              "7194                        Hope Springs  ...  [-0.20086397, -0.2519067, -0.19308852, -0.0483...\n",
              "5800                Shining Time Station  ...  [-0.59692985, -1.2270585, -0.23671956, -0.2124...\n",
              "8288                             就是要你愛上我  ...  [-0.5143328, -1.0867534, -0.37828323, -0.79636...\n",
              "3927                John from Cincinnati  ...  [-0.30113778, -0.3045045, -0.02962935, -0.1664...\n",
              "562                  Saturday Night Live  ...  [-0.38355583, -0.66120696, -0.6814137, -0.6546...\n",
              "1770           Rowan & Martin's Laugh-In  ...  [-0.0780573, -0.885133, -0.58054763, -0.472226...\n",
              "7438        Reservoir Chronicle: Tsubasa  ...  [-0.6314044, -0.24253322, -0.2021268, -0.32984...\n",
              "1450                       The Staircase  ...  [-0.67319524, -0.17708507, -0.2819273, -0.2349...\n",
              "9045                    Szürreality Show  ...  [-0.08297249, -0.40115193, -0.067019336, -0.12...\n",
              "246                                  Mom  ...  [-1.2760875, -0.43526354, -0.68114305, -0.3794...\n",
              "1020                      The Restaurant  ...  [-0.67384994, -0.13457672, -0.30202216, -0.335...\n",
              "3758           The Pet Girl of Sakurasou  ...  [-1.0071596, -0.8377988, -0.33760712, -0.46866...\n",
              "4977                       Boston Common  ...  [-0.40181568, -0.8060414, -0.17545526, -0.1201...\n",
              "762                           The L Word  ...  [-0.4424733, -0.59105706, -0.48910758, -0.4893...\n",
              "8287                          True Tears  ...  [-0.099928156, -0.72867745, -0.21374767, -0.03...\n",
              "2357                        Small Wonder  ...  [-1.1441925, -0.59387565, -0.52557266, 0.15398...\n",
              "2501                  Pixar in Real Life  ...  [0.017184554, -0.54394954, -0.07986921, -0.193...\n",
              "5868                       ChuckleVision  ...  [-0.21483853, 0.12391949, -0.4867478, 0.080694...\n",
              "3562            The Ancient Magus' Bride  ...  [-0.6786756, -0.748957, -0.02459495, -0.123425...\n",
              "9219                       Khate ghermez  ...  [-0.37082657, -0.5336477, -0.34356794, -0.2092...\n",
              "6256                              Joe 90  ...  [-0.9855817, -0.7539093, -0.75544834, -0.26553...\n",
              "930                                Ófærð  ...  [-0.18655416, -0.46213457, 0.06708706, -0.0199...\n",
              "7109                               Fauji  ...  [-0.8243976, -1.1304708, -0.3488689, -0.170502...\n",
              "8429                      Roque Santeiro  ...  [-0.5592414, -0.26477936, -0.07528724, -0.0029...\n",
              "6875                             Stanley  ...  [-1.1387978, -0.57360137, -0.76750433, -0.1897...\n",
              "70                              Sherlock  ...  [-1.1658181, -0.8262431, -0.43850225, -0.06302...\n",
              "2826                       Lady Dynamite  ...  [-0.107416995, -0.9340817, 0.3583273, -0.25716...\n",
              "7660                The Magic Roundabout  ...  [-0.4183281, -0.63995725, -0.33568826, -0.0474...\n",
              "1175                  Canada's Drag Race  ...  [-0.4244856, 0.09593097, -0.26446652, 0.148942...\n",
              "2491                           Afili Ask  ...  [-0.44131145, -0.5948819, -0.112608366, 0.0223...\n",
              "\n",
              "[50 rows x 6 columns]"
            ]
          },
          "metadata": {
            "tags": []
          },
          "execution_count": 22
        }
      ]
    },
    {
      "cell_type": "code",
      "metadata": {
        "id": "ifieAMSSm1pt",
        "colab_type": "code",
        "colab": {}
      },
      "source": [
        "df_berted=df_clean.apply(add_Bert_column, axis=1)"
      ],
      "execution_count": null,
      "outputs": []
    },
    {
      "cell_type": "code",
      "metadata": {
        "id": "M8FhShPVInT3",
        "colab_type": "code",
        "colab": {}
      },
      "source": [
        "df_berted_averaged=df_clean.apply(add_Bert_column_averaged, axis=1)"
      ],
      "execution_count": null,
      "outputs": []
    },
    {
      "cell_type": "code",
      "metadata": {
        "id": "TD6qLDcc0FuP",
        "colab_type": "code",
        "colab": {
          "base_uri": "https://localhost:8080/",
          "height": 204
        },
        "outputId": "3c309763-9150-46b2-ff02-c1049ece9c26"
      },
      "source": [
        "df_berted_averaged.head()"
      ],
      "execution_count": null,
      "outputs": [
        {
          "output_type": "execute_result",
          "data": {
            "text/html": [
              "<div>\n",
              "<style scoped>\n",
              "    .dataframe tbody tr th:only-of-type {\n",
              "        vertical-align: middle;\n",
              "    }\n",
              "\n",
              "    .dataframe tbody tr th {\n",
              "        vertical-align: top;\n",
              "    }\n",
              "\n",
              "    .dataframe thead th {\n",
              "        text-align: right;\n",
              "    }\n",
              "</style>\n",
              "<table border=\"1\" class=\"dataframe\">\n",
              "  <thead>\n",
              "    <tr style=\"text-align: right;\">\n",
              "      <th></th>\n",
              "      <th>Name</th>\n",
              "      <th>Genres</th>\n",
              "      <th>Score</th>\n",
              "      <th>Votes</th>\n",
              "      <th>Storyline</th>\n",
              "      <th>Bert vector</th>\n",
              "    </tr>\n",
              "  </thead>\n",
              "  <tbody>\n",
              "    <tr>\n",
              "      <th>0</th>\n",
              "      <td>The Umbrella Academy</td>\n",
              "      <td>['Action', 'Adventure', 'Comedy']</td>\n",
              "      <td>8.0</td>\n",
              "      <td>114,948</td>\n",
              "      <td>On the same day in October 1989, forty-thr...</td>\n",
              "      <td>[-0.2231853, -0.058823504, 0.38834637, -0.2301...</td>\n",
              "    </tr>\n",
              "    <tr>\n",
              "      <th>1</th>\n",
              "      <td>Dark</td>\n",
              "      <td>['Crime', 'Drama', 'Mystery']</td>\n",
              "      <td>8.8</td>\n",
              "      <td>237,507</td>\n",
              "      <td>The first German production from the world...</td>\n",
              "      <td>[-0.3973119, -0.2140088, 0.66914797, -0.238113...</td>\n",
              "    </tr>\n",
              "    <tr>\n",
              "      <th>2</th>\n",
              "      <td>Yellowstone</td>\n",
              "      <td>['Drama', 'Western']</td>\n",
              "      <td>8.5</td>\n",
              "      <td>19,008</td>\n",
              "      <td>Yellowstone follows the Dutton family, led...</td>\n",
              "      <td>[-0.104803674, -0.03705466, 0.14606862, -0.060...</td>\n",
              "    </tr>\n",
              "    <tr>\n",
              "      <th>3</th>\n",
              "      <td>Perry Mason</td>\n",
              "      <td>['Crime', 'Drama']</td>\n",
              "      <td>7.4</td>\n",
              "      <td>5,404</td>\n",
              "      <td>Set in 1932 Los Angeles, the series focuse...</td>\n",
              "      <td>[-0.27238184, -0.1082099, -0.040502563, -0.259...</td>\n",
              "    </tr>\n",
              "    <tr>\n",
              "      <th>4</th>\n",
              "      <td>Game of Thrones</td>\n",
              "      <td>['Action', 'Adventure', 'Drama']</td>\n",
              "      <td>9.3</td>\n",
              "      <td>1,696,047</td>\n",
              "      <td>In the mythical continent of Westeros, sev...</td>\n",
              "      <td>[-0.28576553, 0.03967202, 0.32915372, -0.16211...</td>\n",
              "    </tr>\n",
              "  </tbody>\n",
              "</table>\n",
              "</div>"
            ],
            "text/plain": [
              "                   Name  ...                                        Bert vector\n",
              "0  The Umbrella Academy  ...  [-0.2231853, -0.058823504, 0.38834637, -0.2301...\n",
              "1                  Dark  ...  [-0.3973119, -0.2140088, 0.66914797, -0.238113...\n",
              "2           Yellowstone  ...  [-0.104803674, -0.03705466, 0.14606862, -0.060...\n",
              "3           Perry Mason  ...  [-0.27238184, -0.1082099, -0.040502563, -0.259...\n",
              "4       Game of Thrones  ...  [-0.28576553, 0.03967202, 0.32915372, -0.16211...\n",
              "\n",
              "[5 rows x 6 columns]"
            ]
          },
          "metadata": {
            "tags": []
          },
          "execution_count": 75
        }
      ]
    },
    {
      "cell_type": "code",
      "metadata": {
        "id": "k1M_o-Yn2R-v",
        "colab_type": "code",
        "colab": {
          "base_uri": "https://localhost:8080/",
          "height": 34
        },
        "outputId": "70e2b344-d0a9-430e-a066-e316ea32ebbe"
      },
      "source": [
        "type(df_berted['Bert vector'].iloc[4][3])"
      ],
      "execution_count": null,
      "outputs": [
        {
          "output_type": "execute_result",
          "data": {
            "text/plain": [
              "numpy.float32"
            ]
          },
          "metadata": {
            "tags": []
          },
          "execution_count": 52
        }
      ]
    },
    {
      "cell_type": "code",
      "metadata": {
        "id": "7UBZY31u-mNq",
        "colab_type": "code",
        "colab": {}
      },
      "source": [
        "df_berted.to_csv(path+'/df_berted.csv', index=False)"
      ],
      "execution_count": null,
      "outputs": []
    },
    {
      "cell_type": "code",
      "metadata": {
        "id": "PF9KVAejsbdu",
        "colab_type": "code",
        "colab": {
          "base_uri": "https://localhost:8080/",
          "height": 221
        },
        "outputId": "cabccac7-461a-4563-d4e9-aedcfcb3094b"
      },
      "source": [
        "df_berted=pd.read_csv(path+'/df_berted.csv')\n",
        "df_berted.head()"
      ],
      "execution_count": null,
      "outputs": [
        {
          "output_type": "execute_result",
          "data": {
            "text/html": [
              "<div>\n",
              "<style scoped>\n",
              "    .dataframe tbody tr th:only-of-type {\n",
              "        vertical-align: middle;\n",
              "    }\n",
              "\n",
              "    .dataframe tbody tr th {\n",
              "        vertical-align: top;\n",
              "    }\n",
              "\n",
              "    .dataframe thead th {\n",
              "        text-align: right;\n",
              "    }\n",
              "</style>\n",
              "<table border=\"1\" class=\"dataframe\">\n",
              "  <thead>\n",
              "    <tr style=\"text-align: right;\">\n",
              "      <th></th>\n",
              "      <th>Name</th>\n",
              "      <th>Genres</th>\n",
              "      <th>Score</th>\n",
              "      <th>Votes</th>\n",
              "      <th>Storyline</th>\n",
              "      <th>Bert vector</th>\n",
              "    </tr>\n",
              "  </thead>\n",
              "  <tbody>\n",
              "    <tr>\n",
              "      <th>0</th>\n",
              "      <td>The Umbrella Academy</td>\n",
              "      <td>['Action', 'Adventure', 'Comedy']</td>\n",
              "      <td>8.0</td>\n",
              "      <td>114,948</td>\n",
              "      <td>On the same day in October 1989, forty-thr...</td>\n",
              "      <td>[-6.59081221e-01 -2.34883964e-01 -6.98900446e-...</td>\n",
              "    </tr>\n",
              "    <tr>\n",
              "      <th>1</th>\n",
              "      <td>Dark</td>\n",
              "      <td>['Crime', 'Drama', 'Mystery']</td>\n",
              "      <td>8.8</td>\n",
              "      <td>237,507</td>\n",
              "      <td>The first German production from the world...</td>\n",
              "      <td>[-1.96405485e-01 -6.05088592e-01  1.08784020e-...</td>\n",
              "    </tr>\n",
              "    <tr>\n",
              "      <th>2</th>\n",
              "      <td>Yellowstone</td>\n",
              "      <td>['Drama', 'Western']</td>\n",
              "      <td>8.5</td>\n",
              "      <td>19,008</td>\n",
              "      <td>Yellowstone follows the Dutton family, led...</td>\n",
              "      <td>[-4.72666889e-01 -2.96435505e-01 -2.20258497e-...</td>\n",
              "    </tr>\n",
              "    <tr>\n",
              "      <th>3</th>\n",
              "      <td>Perry Mason</td>\n",
              "      <td>['Crime', 'Drama']</td>\n",
              "      <td>7.4</td>\n",
              "      <td>5,404</td>\n",
              "      <td>Set in 1932 Los Angeles, the series focuse...</td>\n",
              "      <td>[-3.67320359e-01 -9.49564695e-01  2.84631640e-...</td>\n",
              "    </tr>\n",
              "    <tr>\n",
              "      <th>4</th>\n",
              "      <td>Game of Thrones</td>\n",
              "      <td>['Action', 'Adventure', 'Drama']</td>\n",
              "      <td>9.3</td>\n",
              "      <td>1,696,047</td>\n",
              "      <td>In the mythical continent of Westeros, sev...</td>\n",
              "      <td>[-5.92308104e-01 -2.74694830e-01  1.04733519e-...</td>\n",
              "    </tr>\n",
              "  </tbody>\n",
              "</table>\n",
              "</div>"
            ],
            "text/plain": [
              "                   Name  ...                                        Bert vector\n",
              "0  The Umbrella Academy  ...  [-6.59081221e-01 -2.34883964e-01 -6.98900446e-...\n",
              "1                  Dark  ...  [-1.96405485e-01 -6.05088592e-01  1.08784020e-...\n",
              "2           Yellowstone  ...  [-4.72666889e-01 -2.96435505e-01 -2.20258497e-...\n",
              "3           Perry Mason  ...  [-3.67320359e-01 -9.49564695e-01  2.84631640e-...\n",
              "4       Game of Thrones  ...  [-5.92308104e-01 -2.74694830e-01  1.04733519e-...\n",
              "\n",
              "[5 rows x 6 columns]"
            ]
          },
          "metadata": {
            "tags": []
          },
          "execution_count": 8
        }
      ]
    },
    {
      "cell_type": "code",
      "metadata": {
        "id": "SkikNJwThUN-",
        "colab_type": "code",
        "colab": {}
      },
      "source": [
        "def cosine_similarity(v,w):\n",
        "  return np.dot(v,w) / ( np.linalg.norm(v) * np.linalg.norm(w) )"
      ],
      "execution_count": null,
      "outputs": []
    },
    {
      "cell_type": "code",
      "metadata": {
        "id": "__JtirefsnXa",
        "colab_type": "code",
        "colab": {}
      },
      "source": [
        "def array_to_list(row):\n",
        "  row['Bert_list']=row['Bert vector'].tolist()\n",
        "  return row"
      ],
      "execution_count": null,
      "outputs": []
    },
    {
      "cell_type": "code",
      "metadata": {
        "id": "YyCudi77uTxG",
        "colab_type": "code",
        "colab": {}
      },
      "source": [
        "df_berted_averaged = df_berted_averaged.apply(array_to_list, axis=1)"
      ],
      "execution_count": null,
      "outputs": []
    },
    {
      "cell_type": "code",
      "metadata": {
        "id": "dhiqVUITuZJ3",
        "colab_type": "code",
        "colab": {
          "base_uri": "https://localhost:8080/",
          "height": 289
        },
        "outputId": "c8d93478-3b4b-44e9-db13-2718723bd9b1"
      },
      "source": [
        "sample_berted.head()"
      ],
      "execution_count": null,
      "outputs": [
        {
          "output_type": "execute_result",
          "data": {
            "text/html": [
              "<div>\n",
              "<style scoped>\n",
              "    .dataframe tbody tr th:only-of-type {\n",
              "        vertical-align: middle;\n",
              "    }\n",
              "\n",
              "    .dataframe tbody tr th {\n",
              "        vertical-align: top;\n",
              "    }\n",
              "\n",
              "    .dataframe thead th {\n",
              "        text-align: right;\n",
              "    }\n",
              "</style>\n",
              "<table border=\"1\" class=\"dataframe\">\n",
              "  <thead>\n",
              "    <tr style=\"text-align: right;\">\n",
              "      <th></th>\n",
              "      <th>Name</th>\n",
              "      <th>Genres</th>\n",
              "      <th>Score</th>\n",
              "      <th>Votes</th>\n",
              "      <th>Storyline</th>\n",
              "      <th>Bert vector</th>\n",
              "      <th>Bert_list</th>\n",
              "    </tr>\n",
              "  </thead>\n",
              "  <tbody>\n",
              "    <tr>\n",
              "      <th>2060</th>\n",
              "      <td>The Honeymooners</td>\n",
              "      <td>['Comedy', 'Family']</td>\n",
              "      <td>8.6</td>\n",
              "      <td>4,532</td>\n",
              "      <td>Ralph Kramden is a New York bus driver who...</td>\n",
              "      <td>[-0.69951004, -0.35813463, -0.62968767, 0.1170...</td>\n",
              "      <td>[-0.6995100378990173, -0.3581346273422241, -0....</td>\n",
              "    </tr>\n",
              "    <tr>\n",
              "      <th>6338</th>\n",
              "      <td>The Chris Isaak Show</td>\n",
              "      <td>['Comedy', 'Music']</td>\n",
              "      <td>7.8</td>\n",
              "      <td>621</td>\n",
              "      <td>Chris plays himself as a low-key, nebbishy...</td>\n",
              "      <td>[-0.54087603, -0.24936864, -0.4600258, -0.1614...</td>\n",
              "      <td>[-0.540876030921936, -0.24936863780021667, -0....</td>\n",
              "    </tr>\n",
              "    <tr>\n",
              "      <th>6428</th>\n",
              "      <td>Baieti de Oras</td>\n",
              "      <td>['Comedy']</td>\n",
              "      <td>7.8</td>\n",
              "      <td>305</td>\n",
              "      <td>Six friends, all with different lifestyles...</td>\n",
              "      <td>[-0.4404717, -0.06990207, -0.593798, -0.182721...</td>\n",
              "      <td>[-0.44047170877456665, -0.06990206986665726, -...</td>\n",
              "    </tr>\n",
              "    <tr>\n",
              "      <th>5724</th>\n",
              "      <td>Night Visions</td>\n",
              "      <td>['Fantasy', 'Horror', 'Mystery']</td>\n",
              "      <td>7.5</td>\n",
              "      <td>798</td>\n",
              "      <td>Night Visions is an anthology series simil...</td>\n",
              "      <td>[-0.32406402, -0.7709435, -0.072052374, -0.081...</td>\n",
              "      <td>[-0.3240640163421631, -0.7709435224533081, -0....</td>\n",
              "    </tr>\n",
              "    <tr>\n",
              "      <th>3189</th>\n",
              "      <td>American Odyssey</td>\n",
              "      <td>['Action', 'Drama', 'Thriller']</td>\n",
              "      <td>7.3</td>\n",
              "      <td>5,885</td>\n",
              "      <td>Three families are torn apart when a stran...</td>\n",
              "      <td>[-0.08233038, 0.22790723, 0.10217152, -0.07743...</td>\n",
              "      <td>[-0.0823303833603859, 0.2279072254896164, 0.10...</td>\n",
              "    </tr>\n",
              "  </tbody>\n",
              "</table>\n",
              "</div>"
            ],
            "text/plain": [
              "                      Name  ...                                          Bert_list\n",
              "2060      The Honeymooners  ...  [-0.6995100378990173, -0.3581346273422241, -0....\n",
              "6338  The Chris Isaak Show  ...  [-0.540876030921936, -0.24936863780021667, -0....\n",
              "6428        Baieti de Oras  ...  [-0.44047170877456665, -0.06990206986665726, -...\n",
              "5724         Night Visions  ...  [-0.3240640163421631, -0.7709435224533081, -0....\n",
              "3189      American Odyssey  ...  [-0.0823303833603859, 0.2279072254896164, 0.10...\n",
              "\n",
              "[5 rows x 7 columns]"
            ]
          },
          "metadata": {
            "tags": []
          },
          "execution_count": 26
        }
      ]
    },
    {
      "cell_type": "code",
      "metadata": {
        "id": "Ko3U68duz2Ki",
        "colab_type": "code",
        "colab": {}
      },
      "source": [
        "df_berted = df_berted.apply(array_to_list, axis=1)"
      ],
      "execution_count": null,
      "outputs": []
    },
    {
      "cell_type": "code",
      "metadata": {
        "id": "2oujmQx_x7KP",
        "colab_type": "code",
        "colab": {}
      },
      "source": [
        "v_1=sample_berted.iloc[1]['Bert_list']\n",
        "v_2=sample_berted.iloc[2]['Bert_list']"
      ],
      "execution_count": null,
      "outputs": []
    },
    {
      "cell_type": "code",
      "metadata": {
        "id": "IMBeb6rryDTB",
        "colab_type": "code",
        "colab": {
          "base_uri": "https://localhost:8080/",
          "height": 34
        },
        "outputId": "38721af1-f03f-417d-91fe-db5d07bbe776"
      },
      "source": [
        "cosine_similarity(v_1,v_2)"
      ],
      "execution_count": null,
      "outputs": [
        {
          "output_type": "execute_result",
          "data": {
            "text/plain": [
              "0.6996046357077184"
            ]
          },
          "metadata": {
            "tags": []
          },
          "execution_count": 39
        }
      ]
    },
    {
      "cell_type": "code",
      "metadata": {
        "id": "Hn_wwDN52vmp",
        "colab_type": "code",
        "colab": {}
      },
      "source": [
        "def sentence_comparison(sentence):\n",
        "  \"\"\" Input: user-provided sentence. Output: cosine-similarity value\"\"\"\n",
        "  sentence_vector=get_vector_averaged(sentence).tolist()\n",
        "  def cos_simil(vector):\n",
        "    return cosine_similarity(vector, sentence_vector)\n",
        "  return cos_simil"
      ],
      "execution_count": 84,
      "outputs": []
    },
    {
      "cell_type": "code",
      "metadata": {
        "id": "bYJuBh2m2-0q",
        "colab_type": "code",
        "colab": {
          "base_uri": "https://localhost:8080/",
          "height": 258
        },
        "outputId": "47252836-0ebb-4d36-8bd3-a48b3f908e4e"
      },
      "source": [
        "!pip install pyspark"
      ],
      "execution_count": null,
      "outputs": [
        {
          "output_type": "stream",
          "text": [
            "Collecting pyspark\n",
            "\u001b[?25l  Downloading https://files.pythonhosted.org/packages/f0/26/198fc8c0b98580f617cb03cb298c6056587b8f0447e20fa40c5b634ced77/pyspark-3.0.1.tar.gz (204.2MB)\n",
            "\u001b[K     |████████████████████████████████| 204.2MB 65kB/s \n",
            "\u001b[?25hCollecting py4j==0.10.9\n",
            "\u001b[?25l  Downloading https://files.pythonhosted.org/packages/9e/b6/6a4fb90cd235dc8e265a6a2067f2a2c99f0d91787f06aca4bcf7c23f3f80/py4j-0.10.9-py2.py3-none-any.whl (198kB)\n",
            "\u001b[K     |████████████████████████████████| 204kB 36.0MB/s \n",
            "\u001b[?25hBuilding wheels for collected packages: pyspark\n",
            "  Building wheel for pyspark (setup.py) ... \u001b[?25l\u001b[?25hdone\n",
            "  Created wheel for pyspark: filename=pyspark-3.0.1-py2.py3-none-any.whl size=204612243 sha256=1fafff38e4c154c61f8d8180cf9fa29191471b8c0ec34e3aa4dc080bb77e4a4a\n",
            "  Stored in directory: /root/.cache/pip/wheels/5e/bd/07/031766ca628adec8435bb40f0bd83bb676ce65ff4007f8e73f\n",
            "Successfully built pyspark\n",
            "Installing collected packages: py4j, pyspark\n",
            "Successfully installed py4j-0.10.9 pyspark-3.0.1\n"
          ],
          "name": "stdout"
        }
      ]
    },
    {
      "cell_type": "code",
      "metadata": {
        "id": "TWAPAuus5sWi",
        "colab_type": "code",
        "colab": {
          "base_uri": "https://localhost:8080/",
          "height": 34
        },
        "outputId": "75a56150-4889-4721-8e51-c5b7acaa8c27"
      },
      "source": [
        "from pyspark import SparkContext, SparkConf\n",
        "sc = SparkContext(\"local[*]\", \"pyspark_df\")\n",
        "print(sc.version)"
      ],
      "execution_count": null,
      "outputs": [
        {
          "output_type": "stream",
          "text": [
            "3.0.1\n"
          ],
          "name": "stdout"
        }
      ]
    },
    {
      "cell_type": "code",
      "metadata": {
        "id": "XVFoqdvz5vH1",
        "colab_type": "code",
        "colab": {}
      },
      "source": [
        "from pyspark.sql import SQLContext\n",
        "sqlContext = SQLContext(sc)"
      ],
      "execution_count": null,
      "outputs": []
    },
    {
      "cell_type": "code",
      "metadata": {
        "id": "p3A9eWtn6U2L",
        "colab_type": "code",
        "colab": {}
      },
      "source": [
        "df_basic=df_berted[['Name','Bert vector']]"
      ],
      "execution_count": null,
      "outputs": []
    },
    {
      "cell_type": "code",
      "metadata": {
        "id": "dbg47Yem9Zni",
        "colab_type": "code",
        "colab": {
          "base_uri": "https://localhost:8080/",
          "height": 71
        },
        "outputId": "705c2e50-91de-433b-cb36-0efe256c1a36"
      },
      "source": [
        "df_basic.Bert_list=df_basic['Bert vector'].map(lambda x: x.tolist())"
      ],
      "execution_count": null,
      "outputs": [
        {
          "output_type": "stream",
          "text": [
            "/usr/local/lib/python3.6/dist-packages/ipykernel_launcher.py:1: UserWarning: Pandas doesn't allow columns to be created via a new attribute name - see https://pandas.pydata.org/pandas-docs/stable/indexing.html#attribute-access\n",
            "  \"\"\"Entry point for launching an IPython kernel.\n"
          ],
          "name": "stderr"
        }
      ]
    },
    {
      "cell_type": "code",
      "metadata": {
        "id": "onsnylLr-YLZ",
        "colab_type": "code",
        "colab": {}
      },
      "source": [
        "df_basic.iloc[4]['Bert vector'].tolist()"
      ],
      "execution_count": null,
      "outputs": []
    },
    {
      "cell_type": "code",
      "metadata": {
        "id": "FBqFHxK16kl-",
        "colab_type": "code",
        "colab": {}
      },
      "source": [
        "from pyspark.sql.types import StructType, StructField, StringType, FloatType, ArrayType, DoubleType"
      ],
      "execution_count": null,
      "outputs": []
    },
    {
      "cell_type": "code",
      "metadata": {
        "id": "mzksqKf86qUS",
        "colab_type": "code",
        "colab": {}
      },
      "source": [
        "mySchema = StructType([ StructField(\"Name\", StringType(), True)\\\n",
        "                       ,StructField(\"Bert_vector\", ArrayType(elementType=DoubleType() ), True) ])"
      ],
      "execution_count": null,
      "outputs": []
    },
    {
      "cell_type": "code",
      "metadata": {
        "id": "NF0trKfA67hM",
        "colab_type": "code",
        "colab": {}
      },
      "source": [
        "df = sqlContext.createDataFrame(df_berted_averaged[['Name','Bert_list']],schema=mySchema)"
      ],
      "execution_count": null,
      "outputs": []
    },
    {
      "cell_type": "code",
      "metadata": {
        "id": "f3LrF2MHvJon",
        "colab_type": "code",
        "colab": {
          "base_uri": "https://localhost:8080/",
          "height": 102
        },
        "outputId": "90c9045c-898e-424e-f77f-d23b5ba938fb"
      },
      "source": [
        "df.printSchema()"
      ],
      "execution_count": null,
      "outputs": [
        {
          "output_type": "stream",
          "text": [
            "root\n",
            " |-- Name: string (nullable = true)\n",
            " |-- Bert_vector: array (nullable = true)\n",
            " |    |-- element: double (containsNull = true)\n",
            "\n"
          ],
          "name": "stdout"
        }
      ]
    },
    {
      "cell_type": "code",
      "metadata": {
        "id": "biZKADQUvNLR",
        "colab_type": "code",
        "colab": {
          "base_uri": "https://localhost:8080/",
          "height": 153
        },
        "outputId": "5b7438ad-4f9c-4d17-9bd8-5c1c718036e6"
      },
      "source": [
        "df.show(2)"
      ],
      "execution_count": null,
      "outputs": [
        {
          "output_type": "stream",
          "text": [
            "+--------------------+--------------------+\n",
            "|                Name|         Bert_vector|\n",
            "+--------------------+--------------------+\n",
            "|The Umbrella Academy|[-0.2231853008270...|\n",
            "|                Dark|[-0.3973118960857...|\n",
            "+--------------------+--------------------+\n",
            "only showing top 2 rows\n",
            "\n"
          ],
          "name": "stdout"
        }
      ]
    },
    {
      "cell_type": "code",
      "metadata": {
        "id": "nKKClJwLzyrd",
        "colab_type": "code",
        "colab": {}
      },
      "source": [
        "test_sentence='Writer helps attractive New York detective solve crimes'"
      ],
      "execution_count": 88,
      "outputs": []
    },
    {
      "cell_type": "code",
      "metadata": {
        "id": "Xya9MaUW0c7Q",
        "colab_type": "code",
        "colab": {}
      },
      "source": [
        "from pyspark.sql.functions import udf"
      ],
      "execution_count": null,
      "outputs": []
    },
    {
      "cell_type": "code",
      "metadata": {
        "id": "AVqqdp900P7c",
        "colab_type": "code",
        "colab": {}
      },
      "source": [
        "cos_similarity = udf(sentence_comparison(test_sentence), DoubleType())"
      ],
      "execution_count": null,
      "outputs": []
    },
    {
      "cell_type": "code",
      "metadata": {
        "id": "ONso4XHE1gAK",
        "colab_type": "code",
        "colab": {}
      },
      "source": [
        "sentence_comparison_func = sentence_comparison(test_sentence)"
      ],
      "execution_count": 89,
      "outputs": []
    },
    {
      "cell_type": "code",
      "metadata": {
        "id": "yrbbIcteztUJ",
        "colab_type": "code",
        "colab": {}
      },
      "source": [
        "df.withColumn('cosine_similarity',cos_similarity('Name')).show(5)\n",
        "#.orderBy(df.cosine_similarity.desc()).collect(5)"
      ],
      "execution_count": null,
      "outputs": []
    },
    {
      "cell_type": "code",
      "metadata": {
        "id": "U9PM5Pv605r_",
        "colab_type": "code",
        "colab": {
          "base_uri": "https://localhost:8080/",
          "height": 34
        },
        "outputId": "c0d77548-a769-47d6-f1c3-89f0162f555d"
      },
      "source": [
        "new_df"
      ],
      "execution_count": null,
      "outputs": [
        {
          "output_type": "execute_result",
          "data": {
            "text/plain": [
              "DataFrame[Name: string, Bert_vector: array<double>, cosine_similarity: double]"
            ]
          },
          "metadata": {
            "tags": []
          },
          "execution_count": 50
        }
      ]
    },
    {
      "cell_type": "code",
      "metadata": {
        "id": "ts15TmOgwVAT",
        "colab_type": "code",
        "colab": {}
      },
      "source": [
        "df_rdd = df.rdd"
      ],
      "execution_count": null,
      "outputs": []
    },
    {
      "cell_type": "code",
      "metadata": {
        "id": "3bVToNHnwvD7",
        "colab_type": "code",
        "colab": {
          "base_uri": "https://localhost:8080/",
          "height": 71
        },
        "outputId": "973532b9-3140-4850-c6c1-7e9791a8bc2f"
      },
      "source": [
        "df_rdd.take(2)"
      ],
      "execution_count": null,
      "outputs": [
        {
          "output_type": "execute_result",
          "data": {
            "text/plain": [
              "[Row(Name='The Umbrella Academy', Bert_vector=[-0.22318530082702637, -0.05882350355386734, 0.3883463740348816, -0.2301371991634369, 0.47817468643188477, 0.05000431463122368, -0.09812726080417633, 0.3094232380390167, 0.5600964426994324, -0.1167328730225563, 0.11140818893909454, -0.31064730882644653, -0.015597139485180378, 0.7144033312797546, -0.09557406604290009, 0.5404767394065857, 0.17480722069740295, 0.20652316510677338, -0.3230994939804077, 0.6028876304626465, 0.48522430658340454, 0.06768546998500824, -0.3924400210380554, 1.0388994216918945, 0.31149986386299133, 0.32528552412986755, -0.11563627421855927, -0.26295286417007446, 0.06730690598487854, 0.4071703851222992, 0.37623947858810425, -0.3060328960418701, -0.0072305696085095406, -0.3829636573791504, -0.13504236936569214, -0.08164165169000626, 0.10307316482067108, 0.009611382149159908, 0.3052409887313843, 0.350017786026001, -0.1798165738582611, -0.3196595311164856, -0.0895063504576683, 0.18308457732200623, 0.17825080454349518, -0.22284473478794098, 0.29208508133888245, -0.306150883436203, -0.04586482420563698, -0.0067452029325068, -0.5360848307609558, -0.10377252846956253, 0.25772157311439514, -0.7228788137435913, 0.15025922656059265, 0.1694619506597519, -0.0639367327094078, -0.21247994899749756, -0.22764389216899872, 0.14909641444683075, -0.44476497173309326, 0.016640957444906235, 0.1562308520078659, -0.1673097461462021, -0.20002438127994537, 0.13845787942409515, 0.16156302392482758, 0.10686316341161728, -0.4486151933670044, 0.03008539415895939, -0.3390144109725952, -0.0009215662721544504, -0.27512213587760925, 0.03437082841992378, -0.08057274669408798, 0.09850656241178513, -0.20460183918476105, -0.02558973990380764, 0.05504203587770462, -0.17468218505382538, -0.21796198189258575, 0.3798733353614807, -0.4442993402481079, 0.05548962205648422, 0.3261227309703827, -0.061505403369665146, 0.48710936307907104, 0.624056875705719, -0.17233017086982727, 0.40862488746643066, -0.15812011063098907, -0.450991153717041, 0.5074628591537476, 0.16403333842754364, 0.24888186156749725, -0.3588404953479767, 0.28921493887901306, -0.013541484251618385, -0.26803678274154663, 0.1047164723277092, 0.400797039270401, -0.17846907675266266, 0.035438310354948044, 0.06844170391559601, 0.0021784156560897827, 0.22523976862430573, -0.055932529270648956, -0.05451367795467377, -0.49110186100006104, 0.027171356603503227, -0.26601818203926086, 0.030439037829637527, -0.42934510111808777, -0.1751551479101181, -0.275130033493042, -0.02198999933898449, 0.0023066005669534206, -0.06169071048498154, 0.19753508269786835, -0.01758630760014057, 0.178452268242836, -0.5220044255256653, -0.3251775801181793, 0.07107647508382797, -0.056698236614465714, -0.2907332181930542, 0.00034549483098089695, -0.41798585653305054, 0.24430668354034424, -0.23185396194458008, -0.031224127858877182, 0.22110587358474731, 0.023194370791316032, 0.01918766088783741, -0.31603527069091797, 0.36943531036376953, -0.023729287087917328, 0.1390039026737213, -0.03071770817041397, -0.3273032307624817, -0.3918394446372986, -0.2481459677219391, 0.141696497797966, 0.4504678249359131, -0.042545001953840256, 0.1096704751253128, -0.13645274937152863, -0.42982426285743713, -0.07968869805335999, 0.29032841324806213, -0.33600544929504395, -0.004094363190233707, -0.2462192177772522, -0.2686741352081299, 0.3690226376056671, -0.1226276159286499, -0.105739526450634, 0.26463550329208374, 0.09024014323949814, -0.27140381932258606, 0.21208550035953522, 0.06739110499620438, -0.24092933535575867, 0.20054447650909424, 0.009514151141047478, 0.14974826574325562, 0.0376942977309227, 0.42660021781921387, -0.3689920902252197, 0.2099739909172058, 0.15530548989772797, 0.260143905878067, 0.3882129192352295, 0.12174811959266663, 0.3236760199069977, 0.2055407166481018, -0.1295926719903946, 0.11153139919042587, 0.15949919819831848, 0.282539427280426, -0.4839012920856476, 0.08301834017038345, -0.22878268361091614, -0.22772543132305145, -0.2094515860080719, 0.034603770822286606, -0.32885634899139404, -0.032229233533144, 0.06033438816666603, 0.12046739459037781, -0.0959128737449646, 0.1019466370344162, 0.35694947838783264, 0.2092384397983551, -0.2387254387140274, -0.5497881174087524, -0.0807807445526123, -0.05848268046975136, -0.16547036170959473, -0.061098404228687286, -0.4238181412220001, 0.2426048219203949, -0.5363888144493103, 0.3319430649280548, 0.25374501943588257, 0.12050391733646393, -0.19553545117378235, -0.02572123147547245, -0.007045712321996689, -0.3910611569881439, -0.21626946330070496, 0.07194195687770844, -0.4489558935165405, 0.33312663435935974, 0.010782741941511631, 0.01541940588504076, -0.22711892426013947, -0.4023020267486572, -0.11881539970636368, -0.43345141410827637, -0.04922104626893997, -0.01574598252773285, -0.33225947618484497, -0.08925625681877136, -0.2239276021718979, 1.1427936553955078, 0.3938024938106537, -0.8209059238433838, 0.12053372710943222, 0.10865212976932526, 0.15038985013961792, -0.5246424078941345, 0.006231405772268772, -0.09106612205505371, 0.058456942439079285, -0.4852561056613922, -0.2829729914665222, -0.5653871297836304, 0.07316038757562637, -0.1599911004304886, -0.13502851128578186, 0.15091216564178467, -0.0757037028670311, 0.26522260904312134, 0.1387535184621811, 0.2751506567001343, 0.19651231169700623, 0.11261208355426788, -0.1349409967660904, 0.08535385131835938, -0.5360124707221985, 0.24406088888645172, -0.1782008707523346, 0.030245080590248108, 0.4598591923713684, -0.36472368240356445, -0.11557810008525848, -0.33129626512527466, -0.1647244691848755, -0.21943914890289307, 0.31787654757499695, -0.22550998628139496, -0.28281569480895996, -0.17274539172649384, -0.046043701469898224, -0.7112076282501221, 0.10780468583106995, 0.07023511826992035, 0.5071815848350525, 0.011234740726649761, 0.26401886343955994, 0.018662983551621437, -0.023400044068694115, 0.8777936697006226, 0.00031186730484478176, -0.18554027378559113, -0.17173223197460175, -0.24121259152889252, 0.4372200071811676, 0.11873959004878998, 0.3491615653038025, -0.01406930573284626, 0.06993982940912247, 0.18820829689502716, -0.6325098276138306, 0.2527884840965271, 0.33248987793922424, -0.3140581250190735, -0.011495883576571941, 0.04440804198384285, -0.19107338786125183, -0.4168380796909332, -0.48796921968460083, -0.07134975492954254, -0.06573273986577988, -0.055849943310022354, -0.05139663815498352, 0.012376859784126282, -0.13319680094718933, 0.10028278082609177, -0.18728740513324738, 0.15152740478515625, -0.27196407318115234, 0.03343451768159866, 0.2738007605075836, 0.5519300699234009, 0.21936145424842834, -0.2819937467575073, -7.857506275177002, 0.25578197836875916, -0.17777138948440552, 0.07024278491735458, 0.5689220428466797, 0.03880026936531067, 0.33909738063812256, 0.008180075325071812, -0.17880289256572723, 0.49429938197135925, 0.36788424849510193, -0.46708592772483826, 0.07611695677042007, 0.17748193442821503, -0.1910034865140915, -0.9036074876785278, 0.22964289784431458, -0.17927692830562592, -0.15850962698459625, 0.26664239168167114, -0.027207916602492332, -0.9169167280197144, 0.206721231341362, -0.23977428674697876, 0.39133256673812866, 0.3624231815338135, -0.4148100018501282, -0.7940975427627563, -0.4127587378025055, 0.09311559796333313, -0.011202732101082802, -0.3235860764980316, 0.043867357075214386, 0.819744884967804, 0.09508974850177765, -0.16583068668842316, -0.31467628479003906, -0.4701187312602997, 0.002955714939162135, -0.42647621035575867, -0.10817465931177139, -0.9952533841133118, -0.02842760644853115, 0.0531291663646698, 0.8795989751815796, -0.1097271591424942, 0.13017404079437256, 0.22767455875873566, 0.27952244877815247, -0.003577710594981909, 0.10069864243268967, -0.1828038990497589, -0.11397513747215271, -0.25710153579711914, 0.3661210834980011, 0.192766472697258, 0.05062282085418701, 0.7534991502761841, -0.36632946133613586, -0.3874155879020691, 0.2242128700017929, 0.17140524089336395, -0.356873482465744, 0.4853416383266449, -0.048070162534713745, -0.2336677461862564, -0.6681174635887146, -0.510214626789093, -0.25595390796661377, -0.1291085034608841, -0.669468104839325, 0.520475447177887, -0.004405259154736996, -0.8090887665748596, -0.303007036447525, -0.08154726773500443, 0.7055354714393616, -0.20451097190380096, -0.3763052821159363, -0.5513105988502502, -0.2581544816493988, -0.48503562808036804, 0.0826331079006195, 0.13010457158088684, -0.14543776214122772, -0.20472264289855957, 0.042447131127119064, 0.0044403597712516785, -0.2668823003768921, -0.3271838128566742, 0.20968785881996155, -0.016160497441887856, 0.22565853595733643, 0.2460928112268448, 0.16492578387260437, -0.1908058226108551, -0.0828864574432373, -0.09597651660442352, 0.058881014585494995, 0.0004665653978008777, -0.4569976031780243, -0.04747004434466362, 0.02707933448255062, -0.018184039741754532, -0.15126675367355347, -0.7158369421958923, 0.04223327338695526, -0.044569265097379684, -0.05749677121639252, 0.08080112189054489, -0.1837674379348755, 0.2679622173309326, -0.07611045241355896, -0.1993636190891266, 0.2717975080013275, -0.22345826029777527, 0.32895198464393616, 0.7506922483444214, -0.20666614174842834, -0.17386557161808014, -0.40239623188972473, 0.4089922606945038, -0.4603056013584137, 0.10115870833396912, 0.2847667932510376, 0.2839665114879608, -0.06302516162395477, 0.35486286878585815, 0.21295611560344696, -0.06416378915309906, -0.4011075496673584, -0.012753351591527462, -0.3172589838504791, 0.16640886664390564, 0.2669801115989685, 0.021122481673955917, -0.12486879527568817, -0.6925597190856934, -0.544032633304596, 0.49457430839538574, 0.557575523853302, 0.28344130516052246, 0.23264367878437042, -0.24317097663879395, -0.06774404644966125, 0.06670504063367844, 0.0776965320110321, 0.4280495345592499, 0.04111513867974281, -0.002802222268655896, -0.2213188260793686, 0.01652863435447216, -0.02412722259759903, -0.4617302715778351, -0.338795006275177, 0.6988048553466797, -0.020392222329974174, 0.19158729910850525, -0.05649644136428833, -0.062264878302812576, 0.12849800288677216, 0.21860024333000183, -0.10931023955345154, -0.09211646765470505, -0.0715448334813118, 0.3968724310398102, 0.21122713387012482, -0.06060412526130676, 0.1276726871728897, 0.013661909848451614, -0.445882648229599, 0.24704356491565704, 0.3492048680782318, -0.11371506005525589, -0.14196401834487915, 0.4163731038570404, 0.13490478694438934, -0.025348974391818047, -0.039923541247844696, 0.1466781497001648, -0.023483965545892715, 0.10073227435350418, -0.2151007354259491, -0.08065604418516159, 0.37822970747947693, -0.1709117591381073, 0.18287992477416992, 0.009820003062486649, -0.517784833908081, -0.3591855764389038, -0.34552446007728577, 0.5242096781730652, 0.26562419533729553, -0.07062012702226639, -0.5358642339706421, -0.07615949213504791, -0.10297054052352905, -0.15944018959999084, -0.008540429174900055, 0.29107600450515747, -0.31197062134742737, -0.24002699553966522, -0.2609986662864685, 0.10360001027584076, 0.13363103568553925, -0.10404728353023529, 0.08459517359733582, 0.47902384400367737, -0.3797183632850647, 0.24259647727012634, -0.3736940324306488, -0.23783348500728607, 0.10443124175071716, 0.2230733335018158, 0.05164862796664238, -0.28093603253364563, -0.5366552472114563, -0.47723445296287537, -0.8063230514526367, 0.09988991916179657, -0.04064285755157471, 0.3224199414253235, 0.6134515404701233, -0.24161271750926971, -0.09716195613145828, -0.1402919441461563, 0.5518121123313904, 0.4863017499446869, -0.024871785193681717, -0.2562214434146881, 0.01798272877931595, -1.9987070560455322, -0.31340962648391724, -0.5872092843055725, -0.23296183347702026, 0.1540224701166153, -0.01046938169747591, -0.6132215261459351, -0.19116012752056122, -0.250919908285141, 0.00900945346802473, -0.34172219038009644, -0.12191630154848099, 0.049413058906793594, 0.2764570713043213, 0.45165082812309265, 0.029292264953255653, 0.052059732377529144, 0.06651201099157333, -0.5413429141044617, -0.1940123289823532, -0.045157790184020996, -0.3241211175918579, -0.27956053614616394, 0.17059487104415894, -0.2061365395784378, -0.28427258133888245, -0.4547281265258789, -0.04992710426449776, -0.23835577070713043, -0.2844259738922119, -0.5172009468078613, -0.4436368942260742, 0.018365979194641113, 0.20818808674812317, -0.674144446849823, -0.37578269839286804, 0.3849317133426666, -0.055967286229133606, -0.18403276801109314, 0.27856379747390747, 0.08319488912820816, -0.2887554168701172, -0.41895243525505066, -0.1485416293144226, 0.23231910169124603, 0.37247300148010254, -0.33168867230415344, -0.039688870310783386, -0.6328790783882141, -0.010158292949199677, 0.4636032283306122, 0.08588156849145889, 0.2953399121761322, 0.12270455062389374, -0.3108629286289215, 0.08826586604118347, 0.10375706851482391, 0.1851084679365158, 0.08815056085586548, 0.38165348768234253, -0.0002985138853546232, 0.204506516456604, -0.2179451882839203, 0.21340638399124146, -0.19152981042861938, 0.7193992137908936, 0.06566482782363892, 0.17244558036327362, 0.38320133090019226, -0.1145976334810257, 0.09205431491136551, 0.47626927495002747, 0.056892890483140945, -0.37842676043510437, -0.10737919062376022, 0.008330365642905235, 0.048238545656204224, -0.28593361377716064, -0.017361141741275787, -0.0030607401859015226, -0.11331913620233536, 0.5149487257003784, -0.0070085301995277405, 0.16982874274253845, 0.13148565590381622, -0.4876350462436676, -0.028207305818796158, 0.053764037787914276, -0.14520950615406036, 0.2066624015569687, 0.37791213393211365, 0.23104138672351837, -0.4566345810890198, 0.10105359554290771, 0.7251792550086975, 0.20858561992645264, -0.0597371943295002, -0.22340796887874603, 0.4180903732776642, -0.33978497982025146, 0.31515344977378845, -0.30674561858177185, -0.38201770186424255, -0.4277719557285309, -0.2971631586551666, 0.2638322710990906, 0.21620452404022217, 0.48111486434936523, 0.23783035576343536, 0.25414013862609863, 0.24065162241458893, 0.4300633668899536, 0.25522351264953613, 0.38763487339019775, -0.0455702543258667, -0.2493656873703003, 0.4642823338508606, 1.0398796796798706, 0.25474628806114197, -0.13923205435276031, -0.09678915143013, -0.18487630784511566, -0.07665903866291046, 0.6910162568092346, -0.025399653241038322, 0.027544155716896057, 0.35754087567329407, 0.05101913586258888, 0.3983518183231354, -0.12466301023960114, 0.061249423772096634, 0.2583715617656708, -0.27236026525497437, 0.451587438583374, -0.1653561145067215, 0.4271392226219177, -0.21322382986545563, 0.15646471083164215, -0.01368799526244402, 0.5764565467834473, -0.078592948615551, -0.11223109066486359, -0.8761780261993408, 0.2099744975566864, 0.1396474540233612, 0.10566675662994385, -0.3210165500640869, 0.007756830658763647, -0.30947598814964294, -0.506614089012146, -0.4063924252986908, -0.7463755011558533, -0.35741353034973145, -0.20688433945178986, 0.08632419258356094, 0.11268318444490433, -0.6552971005439758, 0.1303510218858719, 0.01536110695451498, -0.1092720702290535, 0.07301786541938782, 0.18581128120422363, 0.20893746614456177, -0.3404633700847626, 0.0668618381023407, 0.37939754128456116, -0.2746660113334656, 0.4993363320827484, -0.20120476186275482, -0.06834974884986877, -0.08748409152030945, -0.3288545310497284, 0.018776625394821167, -0.09251818805932999, -0.2708890438079834, 0.025372162461280823, 0.2927130162715912, -0.36779606342315674, 0.0035198961850255728, 0.2957385182380676, -0.09657330065965652, 0.06550168246030807, 0.1417693793773651, 0.08327990025281906, -0.19874314963817596, -0.07956498861312866, -0.11346898227930069, -0.3968037962913513, -0.19111494719982147, -0.3875633180141449, -0.11671722680330276, -0.10813626646995544, -0.3407398760318756, -0.29364249110221863, -0.2588253319263458, 0.23160704970359802, 0.05975803732872009, -0.24561338126659393, -0.008679711259901524, 0.0316694937646389, -0.03924012929201126, 0.01654995232820511, -0.1813945770263672, -0.11047481745481491, -0.2961304783821106, -0.2067527323961258, 0.10295789688825607, -0.38175517320632935, 0.369272381067276, -0.027303574606776237, 0.5467606782913208, -0.19604645669460297, -0.6146003603935242, 0.42978042364120483, 0.0690755695104599, -0.7399533987045288, -0.039235226809978485, -0.131162628531456, -0.2755323350429535, -0.5864751935005188, -0.24110324680805206, 0.11560747772455215, -0.03025493212044239, -0.06780078262090683, -0.15389688313007355, -0.10871482640504837, -0.17673687636852264, 0.20967182517051697, -0.09963014721870422]),\n",
              " Row(Name='Dark', Bert_vector=[-0.39731189608573914, -0.21400879323482513, 0.6691479682922363, -0.23811358213424683, 0.5027629137039185, -0.09380946308374405, 0.13191361725330353, 0.5290479063987732, 0.35937073826789856, -0.2255648374557495, 0.10837677121162415, -0.764586865901947, 0.17605078220367432, 0.6391854882240295, -0.19132454693317413, 0.8528529405593872, 0.10323718190193176, -0.11921136826276779, 0.07957196235656738, -0.2413417249917984, -0.00697809224948287, -0.39412444829940796, 0.016064180061221123, 0.908977746963501, 0.19959335029125214, 0.11947811394929886, 0.17089954018592834, 0.46471306681632996, -0.3736703395843506, 0.23326754570007324, 0.3378749489784241, -0.1683061420917511, -0.030044622719287872, -0.17039647698402405, -0.08443839102983475, 0.2576958239078522, 0.015456493012607098, -0.03271488845348358, 0.0273154117166996, 0.19255664944648743, 0.29906630516052246, -0.34608224034309387, 0.1017078310251236, -0.45656538009643555, 0.11526037752628326, -0.10711577534675598, 0.1824733316898346, -0.08895500749349594, -0.25147703289985657, 0.013654067181050777, -0.7844879627227783, 0.10365463048219681, 0.2881752848625183, -0.44113805890083313, -0.2767874002456665, 0.5068998336791992, 0.15219710767269135, -0.34687352180480957, -0.18438228964805603, 0.27541178464889526, -0.3819655776023865, -0.09688691049814224, 0.04282717406749725, -0.3939838707447052, -0.14528244733810425, 0.3268771469593048, 0.1387374997138977, 0.04973597452044487, 0.09897661209106445, -0.07865342497825623, -0.24905548989772797, -0.060133855789899826, -0.32637304067611694, -0.012877963483333588, -0.04052815958857536, -0.3057435154914856, 0.03206051141023636, 0.24237848818302155, -0.1387348473072052, -0.4326409101486206, -0.40536147356033325, 0.35960623621940613, -0.24883514642715454, -0.2584211528301239, 0.7519752383232117, 0.10953720659017563, 0.25761836767196655, 0.26913920044898987, 0.059714753180742264, 0.4351924657821655, -0.2473282366991043, -0.4712255001068115, -0.24573220312595367, 0.2798050045967102, 0.2786056399345398, -0.4341844618320465, 0.017886579036712646, 0.304867148399353, 0.03573009744286537, 0.2943226993083954, 0.6845122575759888, 0.12137138098478317, 0.1761002540588379, 0.319336861371994, 0.05610164627432823, -0.09506673365831375, 0.2697177827358246, 0.48473620414733887, -0.07779788225889206, -0.3590211868286133, -0.19608958065509796, 0.1776566058397293, 0.15431654453277588, -0.15915018320083618, -0.2394629865884781, -0.1076531708240509, -0.050061557441949844, -0.2953495681285858, 0.08570409566164017, 0.0016618281370028853, -0.2980513572692871, -0.46926283836364746, -0.26885509490966797, 0.40147465467453003, 0.1202385425567627, -0.12748751044273376, -0.30047357082366943, 0.14722174406051636, 0.285682737827301, -0.08606098592281342, 0.1550898551940918, 0.042137838900089264, 0.3221004009246826, -0.27818992733955383, -0.03761746734380722, 0.07793200761079788, -0.30738604068756104, -0.21266786754131317, -0.32575902342796326, -0.2337055802345276, -0.10353834927082062, 0.04822450876235962, -0.04510039463639259, 0.22585581243038177, -0.30452078580856323, -0.10729380697011948, -0.10493680834770203, -0.5018051266670227, 0.040311865508556366, -0.03196609392762184, -0.4573199450969696, 0.03814687207341194, -0.2587798535823822, 0.04873403534293175, -0.4775494933128357, -0.314836710691452, -0.3080632984638214, 0.12567108869552612, 0.019981706514954567, -0.19045576453208923, 0.4611991345882416, -0.14050322771072388, -0.23102468252182007, 0.22126340866088867, 0.17838618159294128, -0.32374367117881775, -0.02635037899017334, 0.7039310932159424, 0.0782385766506195, -0.12846821546554565, 0.1690606027841568, 0.605779767036438, -0.2596757411956787, -0.18878225982189178, 0.09260464459657669, 0.16362108290195465, -0.3790130317211151, -0.01693832501769066, 0.022878507152199745, 0.42935654520988464, -0.4093477725982666, 0.5168818831443787, -0.0701761469244957, -0.33767515420913696, -0.44483518600463867, 0.2909134328365326, 0.20257167518138885, -0.09885266423225403, 0.1324889212846756, 0.0676460713148117, -0.14069797098636627, -0.06656693667173386, 0.05130080506205559, -0.11068881303071976, -0.11100248247385025, -0.7179378271102905, -0.3633200228214264, -0.2121400088071823, -0.033658985048532486, -0.05321161448955536, -0.41665878891944885, 0.10924086719751358, -0.1626116931438446, 0.2774296700954437, 0.07957687973976135, 0.15477332472801208, -0.19495812058448792, -0.3374267518520355, -0.2538454234600067, -0.5821330547332764, -0.009843958541750908, 0.03871309757232666, 0.130248561501503, 0.49475735425949097, 0.3611486256122589, -0.0161988977342844, 0.17601050436496735, -0.44474536180496216, -0.08358372747898102, -0.16103845834732056, -0.07071864604949951, -0.3131934404373169, -0.1870204657316208, -0.01776808872818947, -0.15605300664901733, 0.5706881284713745, 0.3373105525970459, -0.6553251147270203, 0.5424156188964844, -0.18718190491199493, -0.1370435655117035, 0.09857986122369766, 0.32875141501426697, -0.5244559049606323, -0.2946736216545105, 0.07294896245002747, -0.4737493395805359, -0.08931227773427963, 0.29512831568717957, 0.03539935126900673, 0.25134193897247314, 0.17156946659088135, 0.5655934810638428, 0.07689611613750458, 0.05242026224732399, -0.2387877255678177, 0.10019398480653763, -0.04459430277347565, -0.0314117968082428, 0.058494191616773605, -0.5399251580238342, 0.05741608142852783, -0.986047089099884, -0.04392700642347336, -0.13906939327716827, -0.2902645766735077, 0.15355831384658813, -0.47456735372543335, -0.15895956754684448, -0.25778016448020935, 0.31708431243896484, -0.3615230917930603, -0.24305221438407898, -0.19441670179367065, -0.012126562185585499, 0.2149708867073059, -0.4580119252204895, -0.33171525597572327, 0.11072799563407898, 0.049378857016563416, 0.0765761286020279, 0.14243361353874207, 0.5078815221786499, 0.7818810343742371, 0.6742109060287476, -0.16208571195602417, 0.022311165928840637, 0.01074268575757742, 0.18887266516685486, 0.1213626116514206, -0.03232753649353981, -0.17617274820804596, 0.2845497131347656, -0.31989046931266785, -0.28078484535217285, 0.12909768521785736, 0.36251020431518555, 0.13455814123153687, -0.2196265161037445, -0.187047079205513, -0.15464134514331818, -0.23863424360752106, -0.3051738440990448, -0.3634355366230011, 0.12610359489917755, -0.13450735807418823, 0.02783854678273201, 0.13062630593776703, 0.11764480173587799, -0.11950939893722534, 0.1782161444425583, 0.3186592161655426, -0.4239846169948578, -0.04616496339440346, 0.17511671781539917, 0.44846081733703613, 0.29304999113082886, -0.3900207281112671, -10.965970993041992, -0.0059588304720819, -0.02773863822221756, 0.10917911678552628, 0.2529626488685608, -0.3008587062358856, 0.453742116689682, -0.13493500649929047, -0.14177218079566956, 0.37309738993644714, 0.30713987350463867, -0.28106316924095154, -0.33746087551116943, 0.38820651173591614, 0.03186509385704994, -0.7487778067588806, -0.1054111123085022, -0.035551946610212326, 0.08467229455709457, 0.12060589343309402, 0.05423229932785034, -0.5897359848022461, 0.5683437585830688, -0.16828380525112152, 0.005448940675705671, 0.45168402791023254, -0.22508221864700317, -0.012961979024112225, -0.5790414810180664, -0.2922971546649933, -0.33011120557785034, -0.9088402390480042, -0.28006216883659363, 1.1313982009887695, 0.2256331443786621, -0.05664397031068802, -0.18575723469257355, -0.3504052758216858, 0.06933259963989258, -0.23438967764377594, -0.3047516644001007, -0.3595443367958069, -0.006960009690374136, 0.2066771239042282, 0.9010728001594543, -0.4299481213092804, 0.2372564971446991, -0.14659586548805237, 0.3761485517024994, -0.026386873796582222, 0.4451417326927185, -0.045336589217185974, -0.21321789920330048, -0.4553602635860443, 0.28847259283065796, -0.023179026320576668, -0.0007634912617504597, 0.4981191158294678, 0.08075620234012604, -0.4081510305404663, -0.14205320179462433, 0.39464905858039856, -0.7167078256607056, -0.011420117691159248, 0.1733396351337433, -0.3576887845993042, -0.8690701723098755, -0.6241857409477234, -0.22450394928455353, 0.1384422481060028, -0.2568248510360718, 0.2137921154499054, 0.33427324891090393, -1.223641037940979, -0.02002296783030033, -0.4431862533092499, 0.5447342395782471, 0.17669853568077087, -0.3438623547554016, -0.5693154335021973, -0.43102824687957764, -0.035202763974666595, 0.1228547990322113, 0.11741563677787781, 0.08417156338691711, -0.4323529899120331, 0.155096635222435, -0.32931625843048096, -0.050109125673770905, -0.1899448037147522, 0.34432801604270935, 0.13771644234657288, 0.0028125334065407515, 0.629536509513855, -0.347344309091568, 0.2686605453491211, -0.26425299048423767, 0.028327396139502525, -0.17114463448524475, -0.21363291144371033, -0.10256330668926239, 0.013643945567309856, 0.05314513295888901, 0.2236660271883011, 0.1782623529434204, -0.44150644540786743, 0.48934024572372437, 0.203020840883255, 0.02802806720137596, 0.46410855650901794, -0.032753027975559235, 0.24569980800151825, -0.18052545189857483, -0.24348996579647064, 0.515781044960022, -0.4414149522781372, 0.045134447515010834, 0.3136956989765167, -0.15661033987998962, 0.11901440471410751, -0.34632623195648193, 0.5425885915756226, -0.094345822930336, 0.03994935750961304, 0.0290476456284523, 0.027097156271338463, 0.04602814465761185, -0.16461288928985596, 0.09637455642223358, -0.13589872419834137, -0.6751856803894043, -0.4118615984916687, -0.016482844948768616, -0.16199512779712677, 0.2616520822048187, -0.26643460988998413, 0.1851777285337448, -0.7600762248039246, -0.16934269666671753, 0.1518428772687912, 0.38744908571243286, 0.3298100233078003, 0.24746397137641907, -0.17145340144634247, 0.15797798335552216, -0.15166237950325012, -0.25074443221092224, 0.6086480617523193, -0.2172517031431198, -0.23684696853160858, 0.025450248271226883, -0.34032773971557617, -0.025644123554229736, 0.1282735913991928, 0.04671148210763931, 0.7100297808647156, -0.049080681055784225, 0.03762262314558029, -0.03906287997961044, 0.19623114168643951, 0.33305004239082336, 0.08183802664279938, 0.17734567821025848, 0.4661942422389984, 0.018920281901955605, 0.3097155690193176, 0.15197893977165222, 0.049512892961502075, 0.023444395512342453, 0.29708951711654663, -0.5412472486495972, 0.19642598927021027, -0.008281935937702656, -0.0536297932267189, -0.13677899539470673, 0.2766765356063843, -0.13540388643741608, 0.015226905234158039, -0.4076329171657562, 0.49395114183425903, -0.14084304869174957, 0.036669693887233734, -0.2545906603336334, 0.51621413230896, 0.47226962447166443, 0.07501117885112762, -0.18458127975463867, -0.0427362360060215, -0.5299128293991089, -0.038363900035619736, 0.0368441641330719, 0.6608368158340454, 0.19668471813201904, -0.0006341600674204528, -0.2064085155725479, -0.6480312347412109, -0.05083775892853737, -0.5716081857681274, 0.1303730010986328, 0.38797393441200256, -0.48814040422439575, 0.21724872291088104, -0.04866962134838104, 0.15803831815719604, -0.0976659283041954, -0.23021167516708374, -0.07572958618402481, 0.6515058875083923, -0.2213267832994461, -0.06429044157266617, -0.24822816252708435, -0.2045375257730484, 0.06447783857584, 0.1214355081319809, -0.035414401441812515, -0.32317447662353516, -0.36131221055984497, -1.1185340881347656, -0.3677259087562561, 0.08204690366983414, -0.14964893460273743, 0.27318546175956726, 0.6658960580825806, -0.0773400217294693, -0.21759389340877533, -0.26407018303871155, 0.3529009521007538, 0.1891070306301117, -0.29517075419425964, 0.17465075850486755, 0.24984344840049744, -1.5012892484664917, -0.006953815463930368, -0.7354386448860168, -0.37842220067977905, -0.05891536548733711, -0.1520788073539734, -0.5188753008842468, -0.45066675543785095, 0.1677902191877365, -0.11364464461803436, -0.5592712759971619, 0.32930800318717957, -0.08808279037475586, 0.23959003388881683, 0.5460590720176697, 0.14594288170337677, 0.1333383023738861, -0.07922843098640442, -0.5756519436836243, -0.24185612797737122, 0.0006667913985438645, -0.2384018898010254, -0.5988615155220032, 0.36115336418151855, -0.5317075252532959, -0.3494153618812561, 0.006843273993581533, -0.23243345320224762, -0.038010723888874054, -0.12299954891204834, -1.0836338996887207, -0.005519971717149019, -0.045366086065769196, 0.33340081572532654, -0.6550902724266052, -0.3061569333076477, 0.3612336218357086, 0.2904186248779297, 0.2522287666797638, 0.13768436014652252, -0.15005923807621002, 0.12442685663700104, -0.20199623703956604, -0.048020146787166595, 0.22516149282455444, -0.10422957688570023, -0.39115607738494873, 0.057181667536497116, -0.26748695969581604, 0.1201835349202156, 0.18053217232227325, 0.1420453041791916, -0.06505453586578369, 0.12108521163463593, -0.1565525084733963, -0.11270009726285934, 0.19173663854599, -0.013441506773233414, 0.0672912672162056, 0.2325691282749176, -0.0708717554807663, -0.033530671149492264, 0.12806715071201324, 0.17852701246738434, 0.0015533738769590855, 0.8488391041755676, 0.21229694783687592, 0.31914079189300537, 0.3710401654243469, -0.4944029748439789, -0.20284391939640045, 0.48885419964790344, -0.2531055510044098, 0.05974679812788963, 0.08029767870903015, -0.027207039296627045, 0.11362200230360031, -0.0736025869846344, 0.3027594983577728, 0.03263000026345253, -0.4604329466819763, 0.20894493162631989, -0.017567336559295654, 0.5093930959701538, 0.11142811924219131, -0.6756854057312012, -0.2730136215686798, -0.16872848570346832, -0.4208405315876007, 0.2915456295013428, 0.37586382031440735, 0.1664278656244278, -0.44978567957878113, 0.20713075995445251, 0.5693520903587341, 0.28529462218284607, -0.4357813596725464, -0.30372151732444763, 0.24734750390052795, 0.01962258853018284, 0.13944286108016968, -0.5049751400947571, -0.011909903027117252, -0.3279693126678467, 0.3797551989555359, 0.016114071011543274, 0.5346391797065735, 0.6114765405654907, 0.07886183261871338, 0.10545849800109863, -0.09883439540863037, 0.09090524911880493, 0.05526202172040939, 0.4750478267669678, -0.0857977569103241, -0.14933857321739197, 0.2613581120967865, 0.6978387236595154, 0.25276628136634827, 0.39733508229255676, 0.18471594154834747, 0.21039800345897675, 0.0657641813158989, 0.41786035895347595, 0.15651847422122955, -0.46856996417045593, 0.19957749545574188, 0.037814993411302567, 0.9621040225028992, 0.27265363931655884, -0.15345993638038635, 0.1652761548757553, -0.551035463809967, 0.5091442465782166, -0.02675509825348854, 0.35789117217063904, -0.2797531485557556, 0.06747704744338989, -0.3337164521217346, 0.14336146414279938, -0.27209651470184326, -0.21051368117332458, -0.6792129874229431, 0.09457056224346161, -0.10227782279253006, -0.1692187488079071, -0.16072557866573334, -0.3462957739830017, 0.3235244154930115, -0.17089176177978516, -0.7208274602890015, -0.5606776475906372, -0.3811754882335663, -0.29183250665664673, -0.1926773339509964, 0.0903514102101326, -0.5245393514633179, 0.28148436546325684, 0.07209442555904388, -0.42210695147514343, -0.17656753957271576, 0.31653934717178345, 0.15811710059642792, -0.23059579730033875, 0.005279703997075558, 0.37282952666282654, 0.07116744667291641, 0.6115014553070068, 0.09534324705600739, 0.3603891432285309, -0.16803115606307983, -0.6516827940940857, 0.32990023493766785, -0.1142909824848175, -0.07692383974790573, 0.07857903093099594, 0.11440666019916534, -0.07366397231817245, 0.16044428944587708, 0.7436738014221191, -0.035511136054992676, 0.12177836149930954, 0.2955596148967743, -0.03274055942893028, 0.05679699033498764, 0.13660597801208496, -0.014206890016794205, -0.024101601913571358, -0.1367519646883011, -0.4278581440448761, -0.6650472283363342, 0.10456480830907822, -0.3488473892211914, -0.2675352692604065, -0.363504022359848, -0.12886440753936768, 0.17641828954219818, -0.4097262918949127, 0.3058136999607086, -0.2984713315963745, 0.1474987119436264, 0.27008283138275146, 0.17890046536922455, -0.5300508141517639, -0.1974313110113144, 0.06532754004001617, 0.34466585516929626, -0.22091349959373474, -0.04665519669651985, -0.14036217331886292, 0.22844313085079193, 0.034507472068071365, -0.43541771173477173, 0.12558838725090027, 0.23951268196105957, -0.6336336135864258, 0.36079108715057373, -0.1932959109544754, -0.6128968000411987, 0.07267225533723831, -0.27762043476104736, -0.20407886803150177, -0.10635335743427277, -0.5626595616340637, -0.1181040033698082, -0.020944811403751373, -0.5962335467338562, 0.5154467821121216, -0.1344517320394516])]"
            ]
          },
          "metadata": {
            "tags": []
          },
          "execution_count": 80
        }
      ]
    },
    {
      "cell_type": "code",
      "metadata": {
        "id": "5uqRj5h9wyO-",
        "colab_type": "code",
        "colab": {}
      },
      "source": [
        "new_rdd = df_rdd.map(lambda x : (x.Name, sentence_comparison_func(x.Bert_vector)))"
      ],
      "execution_count": 90,
      "outputs": []
    },
    {
      "cell_type": "code",
      "metadata": {
        "id": "2VyrfR632pYX",
        "colab_type": "code",
        "colab": {
          "base_uri": "https://localhost:8080/",
          "height": 187
        },
        "outputId": "9a20870e-918d-46bb-ea1a-97bb37525e04"
      },
      "source": [
        "new_rdd.sortBy(lambda x : - x[1]).collect()[:10]"
      ],
      "execution_count": 91,
      "outputs": [
        {
          "output_type": "execute_result",
          "data": {
            "text/plain": [
              "[('Training Day', 0.8350765228795355),\n",
              " ('Murder City', 0.8303878763501701),\n",
              " ('Oficer', 0.8300519724762891),\n",
              " ('Conviction', 0.8287491046761024),\n",
              " ('Navarro', 0.8253441520640925),\n",
              " ('A Case for Two', 0.824259405182708),\n",
              " ('Against the Wall', 0.821796817965708),\n",
              " ('Çember', 0.8196834123352987),\n",
              " ('The Old Fox', 0.8194812171751826),\n",
              " ('Cold Case Files', 0.8189504844875398)]"
            ]
          },
          "metadata": {
            "tags": []
          },
          "execution_count": 91
        }
      ]
    }
  ]
}